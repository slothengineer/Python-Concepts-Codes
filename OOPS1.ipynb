{
 "cells": [
  {
   "cell_type": "markdown",
   "id": "086b3e71-6fd5-4d29-9e55-73d5462ac555",
   "metadata": {},
   "source": [
    "### 1. Explain Class and Object with respect to Object-Oriented Programming. Give a suitable example."
   ]
  },
  {
   "cell_type": "markdown",
   "id": "4810d8ac-f44e-4d88-82be-56b80bbffa82",
   "metadata": {},
   "source": [
    "In object-oriented programming (OOP), a class and an object are fundamental concepts that help structure and organize your code. They play a crucial role in modeling and representing real-world entities and their behaviors within a program.\n",
    "\n",
    "1. Class:\n",
    "   - A class is a blueprint or a template for creating objects. It defines the attributes (properties) and behaviors (methods) that the objects created from it will have.\n",
    "   - A class acts as a generalized description of a category of objects with similar characteristics and behaviors.\n",
    "   - It serves as a design or specification for what objects of that class should look like and how they should behave.\n",
    "\n",
    "Example: Let's create a class representing a \"Car.\""
   ]
  },
  {
   "cell_type": "code",
   "execution_count": 3,
   "id": "226833f4-e827-4a51-b7ae-ef62ace1f338",
   "metadata": {},
   "outputs": [],
   "source": [
    "class Car:\n",
    "    def __init__(self, make, model, year):\n",
    "        self.make = make\n",
    "        self.model = model\n",
    "        self.year = year\n",
    "        self.speed = 0\n",
    "\n",
    "    def accelerate(self, increment):\n",
    "        self.speed += increment\n",
    "\n",
    "    def brake(self, decrement):\n",
    "        self.speed -= decrement\n",
    "\n",
    "    def honk(self):\n",
    "        print(f\"{self.make} {self.model} is honking!\")"
   ]
  },
  {
   "cell_type": "markdown",
   "id": "0b4a1147-418a-42ad-84f1-302d029bbfc0",
   "metadata": {},
   "source": [
    "In this example, the `Car` class defines the attributes (make, model, year, speed) and behaviors (accelerate, brake, honk) that cars will have in our program."
   ]
  },
  {
   "cell_type": "markdown",
   "id": "76d4f468-bf57-41c4-8dc4-346e0b6631c3",
   "metadata": {},
   "source": [
    "2. Object:\n",
    "   - An object is an instance of a class. It is a specific, individual realization of the class's blueprint, with its own set of attribute values.\n",
    "   - Objects allow you to work with data and behaviors related to a particular entity based on the class's definition.\n",
    "   - You can create multiple objects from the same class, each with its own unique data.\n",
    "\n",
    "Example: Creating objects from the `Car` class."
   ]
  },
  {
   "cell_type": "code",
   "execution_count": 4,
   "id": "bfdb196b-7463-4703-b7b1-95decfdd302f",
   "metadata": {},
   "outputs": [
    {
     "name": "stdout",
     "output_type": "stream",
     "text": [
      "Toyota Camry speed: 30 mph\n",
      "Ford Mustang speed: 40 mph\n",
      "Toyota Camry is honking!\n"
     ]
    }
   ],
   "source": [
    "# Creating two Car objects\n",
    "car1 = Car(\"Toyota\", \"Camry\", 2023)\n",
    "car2 = Car(\"Ford\", \"Mustang\", 2023)\n",
    "\n",
    "# Accessing attributes and calling methods on the objects\n",
    "car1.accelerate(30)\n",
    "car2.accelerate(40)\n",
    "\n",
    "print(f\"{car1.make} {car1.model} speed: {car1.speed} mph\")\n",
    "print(f\"{car2.make} {car2.model} speed: {car2.speed} mph\")\n",
    "\n",
    "car1.honk()"
   ]
  },
  {
   "cell_type": "markdown",
   "id": "b166dbae-4363-4fd4-badd-5602fdd0fbba",
   "metadata": {},
   "source": [
    "In this example, `car1` and `car2` are two distinct objects created from the `Car` class. They each have their own set of attribute values and can execute methods defined in the class. This allows you to model and manipulate individual cars with their own characteristics and behaviors in your program."
   ]
  },
  {
   "cell_type": "markdown",
   "id": "eb19c406-5e19-420c-b789-7bfb442dbe9a",
   "metadata": {},
   "source": [
    "### 2.  Name the four pillars of OOPs."
   ]
  },
  {
   "cell_type": "markdown",
   "id": "53a95443-09f2-4cc2-ac6b-c9008fe372b7",
   "metadata": {},
   "source": [
    "The four pillars of Object-Oriented Programming (OOP) are:\n",
    "\n",
    "1. **Encapsulation:** Encapsulation is the concept of bundling data (attributes) and the methods (functions) that operate on that data into a single unit called a class. It allows you to control the access to the data and only expose it through well-defined interfaces (public methods). Encapsulation helps in data hiding, reducing the complexity of the code, and ensuring that data is accessed and modified in a controlled and consistent manner.\n",
    "\n",
    "2. **Inheritance:** Inheritance is a mechanism that allows you to create a new class (derived or subclass) based on an existing class (base or superclass). The derived class inherits the attributes and methods of the base class. It promotes code reusability and the creation of a hierarchy of classes where common features can be shared and extended. Inheritance enables the \"is-a\" relationship between classes.\n",
    "\n",
    "3. **Polymorphism:** Polymorphism means \"many forms.\" It allows objects of different classes to be treated as objects of a common base class. Polymorphism is achieved through method overriding and method overloading. Method overriding allows a subclass to provide a specific implementation of a method that is already defined in its base class. Method overloading involves defining multiple methods with the same name but different parameter lists in the same class or within a class hierarchy. Polymorphism enables flexibility and dynamic behavior in your code, making it more adaptable to different situations.\n",
    "\n",
    "4. **Abstraction:** Abstraction is the process of simplifying complex reality by modeling classes based on the essential characteristics and behaviors of objects. It hides the unnecessary details and exposes only the relevant features. Abstraction allows you to create abstract classes and interfaces, which define a contract for derived classes to implement. It helps in managing the complexity of large systems and allows you to focus on high-level design rather than implementation details.\n",
    "\n",
    "These four pillars are fundamental principles in OOP and provide a structured and modular approach to designing and implementing software, making it more organized, maintainable, and extensible."
   ]
  },
  {
   "cell_type": "markdown",
   "id": "c2309c7d-c540-45e6-9605-66c741f788df",
   "metadata": {},
   "source": [
    "### 3. Explain why the __init__() function is used. Give a suitable example."
   ]
  },
  {
   "cell_type": "markdown",
   "id": "48e1cd13-6686-4173-88f0-0ba79b53385e",
   "metadata": {},
   "source": [
    "In object-oriented programming, the `__init__()` function is a special method (sometimes called a constructor) that is used to initialize an object's attributes or properties when an instance of a class is created. It is one of the fundamental methods in Python and many other object-oriented programming languages. The `__init__()` function is called automatically when an object is instantiated from a class, and it allows you to set the initial state of the object by specifying values for its attributes.\n",
    "\n",
    "Here's why the `__init__()` function is used:\n",
    "\n",
    "1. **Attribute Initialization:** The primary purpose of the `__init__()` function is to set the initial values of an object's attributes. Attributes are like variables associated with an object, and they define the object's state. By providing values for these attributes during object creation, you can ensure that the object starts with the desired state.\n",
    "\n",
    "2. **Object Initialization:** It helps in the proper initialization and setup of an object, ensuring that it's in a valid and usable state from the moment it's created. This is important because objects often rely on their attributes to function correctly.\n",
    "\n",
    "3. **Constructor Function:** The `__init__()` function serves as a constructor for objects. It allows you to define what should happen when a new object is created, such as initializing attribute values or performing any other setup actions.\n",
    "\n",
    "Here's a suitable example to illustrate the use of the `__init__()` function in Python:"
   ]
  },
  {
   "cell_type": "code",
   "execution_count": 5,
   "id": "249c5743-21fb-4a73-8f5d-34b8016439ee",
   "metadata": {},
   "outputs": [
    {
     "name": "stdout",
     "output_type": "stream",
     "text": [
      "Name: Alice\n",
      "Age: 17 years\n",
      "Grade: A\n",
      "Name: Bob\n",
      "Age: 16 years\n",
      "Grade: B\n"
     ]
    }
   ],
   "source": [
    "class Student:\n",
    "    def __init__(self, name, age, grade):\n",
    "        self.name = name\n",
    "        self.age = age\n",
    "        self.grade = grade\n",
    "\n",
    "    def display_info(self):\n",
    "        print(f\"Name: {self.name}\")\n",
    "        print(f\"Age: {self.age} years\")\n",
    "        print(f\"Grade: {self.grade}\")\n",
    "\n",
    "# Creating instances (objects) of the Student class\n",
    "student1 = Student(\"Alice\", 17, \"A\")\n",
    "student2 = Student(\"Bob\", 16, \"B\")\n",
    "\n",
    "# Displaying information about the students\n",
    "student1.display_info()\n",
    "student2.display_info()"
   ]
  },
  {
   "cell_type": "markdown",
   "id": "44897d10-09b9-47ef-805e-72536ec27f55",
   "metadata": {},
   "source": [
    "In this example, the `__init__()` function in the `Student` class is used to initialize the `name`, `age`, and `grade` attributes for each student object. When `student1` and `student2` are created, their attributes are set according to the values provided during object instantiation. The `display_info()` method can then be used to print the information about each student.\n",
    "\n",
    "Without the `__init__()` function, you would have to set the attributes of each object individually after creation, which would be less convenient and error-prone. The `__init__()` function ensures that objects are properly initialized and ready for use as soon as they are created."
   ]
  },
  {
   "cell_type": "markdown",
   "id": "d464b0f0-98ec-4736-b1b9-29dbde003f73",
   "metadata": {},
   "source": [
    "### 4.  Why self is used in OOPs?"
   ]
  },
  {
   "cell_type": "markdown",
   "id": "9bc82dba-d3f4-48e2-a1bf-82cdbe6625da",
   "metadata": {},
   "source": [
    "In object-oriented programming (OOP), `self` is a convention used in many programming languages, including Python, to refer to the instance of the class within its own methods. It is a reference to the object that is being created or operated upon. The use of `self` is essential for several reasons:\n",
    "\n",
    "1. **Accessing Instance Variables:** Within class methods, you often need to access or modify the object's attributes (instance variables). Using `self` allows you to differentiate between the instance variables and local variables within the method. It tells Python to look for the variable within the object's scope.\n",
    "\n",
    "   Example:"
   ]
  },
  {
   "cell_type": "code",
   "execution_count": 15,
   "id": "da9cfb5a-dce9-4e9d-a11d-489067fd0b59",
   "metadata": {},
   "outputs": [
    {
     "name": "stdout",
     "output_type": "stream",
     "text": [
      "My name is Alice and I am 25 years old.\n"
     ]
    }
   ],
   "source": [
    "class Person:\n",
    "    def __init__(self, name, age):\n",
    "        self.name = name  # Instance variable\n",
    "        self.age = age    # Instance variable\n",
    "\n",
    "    def introduce(self):\n",
    "        print(f\"My name is {self.name} and I am {self.age} years old.\")\n",
    "\n",
    "p = Person(\"Alice\", 25)\n",
    "p.introduce()  "
   ]
  },
  {
   "cell_type": "markdown",
   "id": "1260fde8-12d2-4eae-9110-4778976d7c3c",
   "metadata": {},
   "source": [
    "2. **Method Invocation:** When you call a method on an object, `self` allows the method to access the object's attributes and other methods. It ensures that the method is operating on the specific instance it is called upon.\n",
    "\n",
    "   Example:"
   ]
  },
  {
   "cell_type": "code",
   "execution_count": 16,
   "id": "134caa97-05ca-4f63-aff7-304ce82df9fe",
   "metadata": {},
   "outputs": [],
   "source": [
    "class Calculator:\n",
    "    def __init__(self):\n",
    "        self.result = 0 \n",
    "\n",
    "    def add(self, x):\n",
    "        self.result += x\n",
    "\n",
    "calc = Calculator()\n",
    "calc.add(5)  # Accessing and modifying the result attribute using self"
   ]
  },
  {
   "cell_type": "markdown",
   "id": "218cdf2a-6064-458d-b4b6-5345ecdb71d9",
   "metadata": {},
   "source": [
    "3. **Creating and Modifying Instances:** In the `__init__` method, `self` is used to create and initialize instance variables. It allows you to assign values to object-specific attributes during object creation.\n",
    "\n",
    "   Example:"
   ]
  },
  {
   "cell_type": "code",
   "execution_count": 17,
   "id": "644256af-67d8-4a88-97a2-30aea6bd8364",
   "metadata": {},
   "outputs": [],
   "source": [
    "class Point:\n",
    "    def __init__(self, x, y):\n",
    "        self.x = x  \n",
    "        self.y = y  \n",
    "\n",
    "p = Point(3, 4)  # Using self to set object-specific attributes"
   ]
  },
  {
   "cell_type": "markdown",
   "id": "49ba6305-b482-45d0-b4d3-0742531087b8",
   "metadata": {},
   "source": [
    "4. **Referencing Other Methods:** You use `self` to call other methods within a class. This enables the methods to work together and share data within the instance.\n",
    "\n",
    "   Example:"
   ]
  },
  {
   "cell_type": "code",
   "execution_count": 18,
   "id": "c9671861-0944-4aa0-bac2-40836d4d6140",
   "metadata": {},
   "outputs": [
    {
     "name": "stdout",
     "output_type": "stream",
     "text": [
      "Area: 78.5\n",
      "Circumference: 31.400000000000002\n"
     ]
    }
   ],
   "source": [
    "class Circle:\n",
    "    def __init__(self, radius):\n",
    "        self.radius = radius\n",
    "\n",
    "    def area(self):\n",
    "        return 3.14 * self.radius ** 2\n",
    "\n",
    "    def circumference(self):\n",
    "        return 2 * 3.14 * self.radius\n",
    "\n",
    "c = Circle(5)\n",
    "print(\"Area:\", c.area())               # Accessing another method using self\n",
    "print(\"Circumference:\", c.circumference())  # Accessing another method using self"
   ]
  },
  {
   "cell_type": "markdown",
   "id": "dc20efb9-c875-4aec-a6d5-a05f4a7e79ab",
   "metadata": {},
   "source": [
    "### 5. What is inheritance? Give an example for each type of inheritance."
   ]
  },
  {
   "cell_type": "markdown",
   "id": "b2d20ad7-f9aa-4d23-9f80-8b11da3981e3",
   "metadata": {},
   "source": [
    "Inheritance is one of the four fundamental pillars of object-oriented programming (OOP) and is a mechanism that allows you to create a new class (called a subclass or derived class) based on an existing class (called a superclass or base class). Inheritance enables the subclass to inherit the attributes and methods of the superclass, promoting code reuse and the creation of a hierarchy of classes. It helps establish an \"is-a\" relationship between classes, where the subclass is a specialized version of the superclass.\n",
    "\n",
    "There are different types of inheritance, and here are examples of each:\n",
    "\n",
    "1. **Single Inheritance:**\n",
    "   - Single inheritance occurs when a subclass inherits from only one superclass.\n",
    "   - It represents a simple one-level hierarchy.\n",
    "\n",
    "   Example:"
   ]
  },
  {
   "cell_type": "code",
   "execution_count": 25,
   "id": "3bc87bbb-0b25-4fee-964f-286bc34b20db",
   "metadata": {},
   "outputs": [
    {
     "name": "stdout",
     "output_type": "stream",
     "text": [
      "Buddy says Woof!\n",
      "Whiskers says Meow!\n"
     ]
    }
   ],
   "source": [
    "class Animal:\n",
    "    def __init__(self, name):\n",
    "        self.name = name\n",
    "\n",
    "    def speak(self):\n",
    "        pass\n",
    "\n",
    "class Dog(Animal):\n",
    "    def speak(self):\n",
    "        return \"Woof!\"\n",
    "\n",
    "class Cat(Animal):\n",
    "    def speak(self):\n",
    "        return \"Meow!\"\n",
    "\n",
    "dog = Dog(\"Buddy\")\n",
    "cat = Cat(\"Whiskers\")\n",
    "\n",
    "print(dog.name, \"says\", dog.speak())\n",
    "print(cat.name, \"says\", cat.speak())"
   ]
  },
  {
   "cell_type": "markdown",
   "id": "3495c58b-ea35-4186-ab95-e2ac9bc859da",
   "metadata": {},
   "source": [
    " In this example, the `Dog` and `Cat` classes inherit from the `Animal` superclass using single inheritance. They both have the `name` attribute inherited from `Animal` and provide their own `speak` method implementations."
   ]
  },
  {
   "cell_type": "markdown",
   "id": "a4359df8-6e9b-416f-8034-56495b0b66df",
   "metadata": {},
   "source": [
    "2. **Multiple Inheritance:**\n",
    "   - Multiple inheritance occurs when a subclass inherits from more than one superclass.\n",
    "   - It allows a class to inherit attributes and methods from multiple sources.\n",
    "\n",
    "   Example:"
   ]
  },
  {
   "cell_type": "code",
   "execution_count": 26,
   "id": "1675c802-15da-4eb9-894e-243ad4634fea",
   "metadata": {},
   "outputs": [
    {
     "name": "stdout",
     "output_type": "stream",
     "text": [
      "Child's height: 6 feet\n",
      "Child's eye color: Blue\n"
     ]
    }
   ],
   "source": [
    "class Father:\n",
    "    def __init__(self, height):\n",
    "        self.height = height\n",
    "\n",
    "class Mother:\n",
    "    def __init__(self, eye_color):\n",
    "        self.eye_color = eye_color\n",
    "\n",
    "class Child(Father, Mother):\n",
    "    def __init__(self, height, eye_color):\n",
    "        Father.__init__(self, height)\n",
    "        Mother.__init__(self, eye_color)\n",
    "\n",
    "child = Child(\"6 feet\", \"Blue\")\n",
    "\n",
    "print(\"Child's height:\", child.height)\n",
    "print(\"Child's eye color:\", child.eye_color)"
   ]
  },
  {
   "cell_type": "markdown",
   "id": "c86e12b6-39a5-43a7-9e9f-0aca61f4f925",
   "metadata": {},
   "source": [
    "In this example, the `Child` class inherits from both the `Father` and `Mother` classes using multiple inheritance. It combines attributes from both parents.\n"
   ]
  },
  {
   "cell_type": "markdown",
   "id": "1687e261-4d37-4333-a486-0346152eb95d",
   "metadata": {},
   "source": [
    "3. **Multilevel Inheritance:**\n",
    "   - Multilevel inheritance occurs when a subclass inherits from a superclass, and then another subclass inherits from that subclass.\n",
    "   - It forms a hierarchy of inheritance.\n",
    "\n",
    "   Example:"
   ]
  },
  {
   "cell_type": "code",
   "execution_count": 27,
   "id": "ba3bba05-db8d-447a-9b8b-08cb7b893891",
   "metadata": {},
   "outputs": [
    {
     "name": "stdout",
     "output_type": "stream",
     "text": [
      "Child's name: Alice\n",
      "Child's occupation: Engineer\n",
      "Child's hobby: Painting\n"
     ]
    }
   ],
   "source": [
    "class Grandparent:\n",
    "    def __init__(self, name):\n",
    "        self.name = name\n",
    "\n",
    "class Parent(Grandparent):\n",
    "    def __init__(self, name, occupation):\n",
    "        super().__init__(name)\n",
    "        self.occupation = occupation\n",
    "\n",
    "class Child(Parent):\n",
    "    def __init__(self, name, occupation, hobby):\n",
    "        super().__init__(name, occupation)\n",
    "        self.hobby = hobby\n",
    "\n",
    "child = Child(\"Alice\", \"Engineer\", \"Painting\")\n",
    "\n",
    "print(\"Child's name:\", child.name)\n",
    "print(\"Child's occupation:\", child.occupation)\n",
    "print(\"Child's hobby:\", child.hobby)"
   ]
  },
  {
   "cell_type": "markdown",
   "id": "91e428c0-2b23-4071-81bd-f0e71cadce90",
   "metadata": {},
   "source": [
    "In this example, the `Child` class inherits from the `Parent` class, which, in turn, inherits from the `Grandparent` class. This is an example of multilevel inheritance, forming a hierarchy of classes."
   ]
  },
  {
   "cell_type": "markdown",
   "id": "82f2d9ad-e107-4713-ad4f-ede3301b8318",
   "metadata": {},
   "source": [
    "Inheritance is a powerful concept in OOP that promotes code reusability and allows you to model relationships between classes, making your code more organized and maintainable. However, it should be used judiciously to ensure that the resulting class hierarchy remains logical and easy to understand."
   ]
  },
  {
   "cell_type": "code",
   "execution_count": null,
   "id": "c5e26fc0-9367-4a5e-8e66-9a86af77268e",
   "metadata": {},
   "outputs": [],
   "source": []
  }
 ],
 "metadata": {
  "kernelspec": {
   "display_name": "Python 3 (ipykernel)",
   "language": "python",
   "name": "python3"
  },
  "language_info": {
   "codemirror_mode": {
    "name": "ipython",
    "version": 3
   },
   "file_extension": ".py",
   "mimetype": "text/x-python",
   "name": "python",
   "nbconvert_exporter": "python",
   "pygments_lexer": "ipython3",
   "version": "3.10.8"
  }
 },
 "nbformat": 4,
 "nbformat_minor": 5
}
