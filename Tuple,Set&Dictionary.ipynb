{
 "cells": [
  {
   "cell_type": "markdown",
   "id": "e1cdde7c-8f37-4f88-ad1b-3063797abaef",
   "metadata": {
    "tags": []
   },
   "source": [
    "###  1. What are the characteristics of the tuples? Is tuple immutable?"
   ]
  },
  {
   "cell_type": "markdown",
   "id": "76b9b662-f82d-4b02-ae13-2274070bbfe2",
   "metadata": {},
   "source": [
    "Tuples are a data structure in many programming languages, including Python, that have the following characteristics:\n",
    "\n",
    "1. Ordered: Tuples are ordered collections of elements, which means that the elements have a specific position or index within the tuple, and this order is maintained.\n",
    "\n",
    "2. Heterogeneous: Tuples can hold elements of different data types. For example, a tuple can contain a combination of integers, strings, floats, or other data types.\n",
    "\n",
    "3. Immutable: Tuples are immutable, which means that once a tuple is created, you cannot change its elements, add new elements, or remove elements from it. However, you can create a new tuple by combining or modifying existing tuples.\n",
    "\n",
    "4. Enclosed in Parentheses: In many programming languages, including Python, tuples are typically defined by enclosing their elements in parentheses, like this: `(1, \"apple\", 3.14)`. However, in some languages, parentheses are optional.\n",
    "\n",
    "5. Accessed by Index: You can access individual elements of a tuple by their index, starting from 0. For example, in Python, you can access the first element of a tuple `my_tuple` like this: `my_tuple[0]`."
   ]
  },
  {
   "cell_type": "code",
   "execution_count": 1,
   "id": "9e903166-2793-4ff1-979f-b71261fc83ed",
   "metadata": {},
   "outputs": [
    {
     "name": "stdout",
     "output_type": "stream",
     "text": [
      "1\n",
      "apple\n",
      "(1, 'apple', 3.14, 42, 'banana')\n",
      "(1, 'apple', 3.14, 1, 'apple', 3.14, 1, 'apple', 3.14)\n"
     ]
    }
   ],
   "source": [
    "# Creating a tuple\n",
    "my_tuple = (1, \"apple\", 3.14)\n",
    "\n",
    "# Accessing elements\n",
    "print(my_tuple[0]) \n",
    "print(my_tuple[1])  \n",
    "\n",
    "# Tuple concatenation\n",
    "new_tuple = my_tuple + (42, \"banana\")\n",
    "print(new_tuple)  \n",
    "\n",
    "# Tuple repetition\n",
    "repeated_tuple = my_tuple * 3\n",
    "print(repeated_tuple)  "
   ]
  },
  {
   "cell_type": "markdown",
   "id": "8f74134a-3d4c-471d-810a-df9fce2f863e",
   "metadata": {},
   "source": [
    "### 2. What are the two tuple methods in python? Give an example of each method. Give a reason why tuples have only two in-built methods as compared to Lists."
   ]
  },
  {
   "cell_type": "markdown",
   "id": "69c18955-921a-43f3-9fbd-c7acc91a60b0",
   "metadata": {},
   "source": [
    "In Python, tuples have two built-in methods: `count()` and `index()`. These methods allow you to perform specific operations on tuples. Here are examples of each method:\n",
    "\n",
    "1. `count()`: This method is used to count the number of occurrences of a specified value within the tuple.\n",
    "\n",
    "Example:\n",
    "\n",
    "```python\n",
    "my_tuple = (1, 2, 2, 3, 4, 2)\n",
    "count_of_twos = my_tuple.count(2)\n",
    "print(count_of_twos)  # Output: 3\n",
    "```\n",
    "\n",
    "In this example, `count_of_twos` will be 3 because the value 2 appears three times in the tuple `my_tuple`.\n",
    "\n",
    "2. `index()`: This method is used to find the index (position) of the first occurrence of a specified value within the tuple.\n",
    "\n",
    "Example:\n",
    "\n",
    "```python\n",
    "my_tuple = (10, 20, 30, 40, 50)\n",
    "index_of_30 = my_tuple.index(30)\n",
    "print(index_of_30)  # Output: 2\n",
    "```\n",
    "\n",
    "In this example, `index_of_30` will be 2 because the value 30 is found at index 2 in the tuple `my_tuple`.\n",
    "\n",
    "The reason why tuples have only these two built-in methods compared to lists is because of the fundamental difference between the two data structures:\n",
    "\n",
    "1. Immutability: Tuples are immutable, meaning their elements cannot be changed once the tuple is created. This immutability makes it unnecessary to have methods for adding, removing, or modifying elements, which are common operations for lists. Therefore, the design of tuple methods is focused on operations that do not modify the tuple itself.\n",
    "\n",
    "2. Simplicity: Tuples are intended to be simple and lightweight data structures for storing collections of values. Lists, on the other hand, are more complex and versatile, supporting a wide range of operations and methods due to their mutability. This complexity in lists is reflected in the larger number of built-in methods.\n",
    "\n",
    "Tuples are designed to be simple, immutable, and focused on retrieval and counting operations, while lists offer greater flexibility and mutability, which is why lists have a larger number of built-in methods."
   ]
  },
  {
   "cell_type": "markdown",
   "id": "8a9c0cc9-e660-4ebf-8d8c-8a97caa80f17",
   "metadata": {},
   "source": [
    "### 3. Which collection datatypes in python do not allow duplicate items? Write a code using a set to remove duplicates from the given list."
   ]
  },
  {
   "cell_type": "markdown",
   "id": "bacdbdcb-46d3-4240-8154-8c8a0d668f61",
   "metadata": {},
   "source": [
    "In Python, the collection data type that does not allow duplicate items is the set. Sets are unordered collections of unique elements. You can easily use a set to remove duplicates from a given list"
   ]
  },
  {
   "cell_type": "code",
   "execution_count": 5,
   "id": "56e2af83-82dc-4826-b0a2-ad4ad582ba51",
   "metadata": {},
   "outputs": [
    {
     "name": "stdout",
     "output_type": "stream",
     "text": [
      "[1, 2, 3, 4]\n"
     ]
    }
   ],
   "source": [
    "# Given list with duplicates\n",
    "List = [1, 1, 1, 2, 1, 3, 1, 4, 2, 1, 2, 2, 2, 3, 2, 4, 3, 1, 3, 2, 3, 3, 3, 4, 4, 1, 4, 2, 4, 3, 4, 4]\n",
    "\n",
    "# Convert the list to a set to remove duplicates\n",
    "unique_set = set(List)\n",
    "\n",
    "# Convert the set back to a list\n",
    "unique_list = list(unique_set)\n",
    "\n",
    "# Printing the unique elements\n",
    "print(unique_list)"
   ]
  },
  {
   "cell_type": "markdown",
   "id": "b35f50c1-22ed-4eb3-86f6-d984720df45f",
   "metadata": {},
   "source": [
    "### 4.  Explain the difference between the union() and update() methods for a set. Give an example of each method."
   ]
  },
  {
   "cell_type": "markdown",
   "id": "2459863d-c2fc-4bfe-97f0-792381b9f38d",
   "metadata": {},
   "source": [
    "In Python, the `union()` and `update()` methods for sets are used to combine sets, but they have different behaviors:\n",
    "\n",
    "1. `union()` Method:\n",
    "   - The `union()` method is used to create a new set that contains all the unique elements from the original set and another set (or any iterable).\n",
    "   - It does not modify the original set; instead, it returns a new set containing the combined elements.\n",
    "   - If there are duplicate elements between the sets, they are still included only once in the resulting set.\n",
    "\n",
    "Example of `union()`:"
   ]
  },
  {
   "cell_type": "code",
   "execution_count": 7,
   "id": "aae03f80-9ab0-4a63-a089-3f4a5fce2c22",
   "metadata": {},
   "outputs": [
    {
     "name": "stdout",
     "output_type": "stream",
     "text": [
      "{1, 2, 3, 4, 5}\n",
      "{1, 2, 3}\n"
     ]
    }
   ],
   "source": [
    "set1 = {1, 2, 3}\n",
    "set2 = {3, 4, 5}\n",
    "\n",
    "# Using union() to combine sets\n",
    "result = set1.union(set2)\n",
    "\n",
    "print(result)  \n",
    "print(set1)    # (set1 is not modified)"
   ]
  },
  {
   "cell_type": "markdown",
   "id": "e86fa2e9-99c9-4ae1-b948-44d5fad40b99",
   "metadata": {},
   "source": [
    "2. `update()` Method:\n",
    "   - The `update()` method is used to update the original set by adding all the unique elements from another set (or any iterable) to it.\n",
    "   - It modifies the original set in place and does not return a new set.\n",
    "   - If there are duplicate elements between the sets, they are ignored, as sets do not allow duplicate elements.\n",
    "\n",
    "Example of `update()`:"
   ]
  },
  {
   "cell_type": "code",
   "execution_count": 8,
   "id": "0e423dce-4638-4246-9efc-05c7f5bd04c7",
   "metadata": {},
   "outputs": [
    {
     "name": "stdout",
     "output_type": "stream",
     "text": [
      "{1, 2, 3, 4, 5}\n",
      "{3, 4, 5}\n"
     ]
    }
   ],
   "source": [
    "set1 = {1, 2, 3}\n",
    "set2 = {3, 4, 5}\n",
    "\n",
    "# Using update() to add elements from set2 to set1\n",
    "set1.update(set2)\n",
    "\n",
    "print(set1)  # (set1 is modified)\n",
    "print(set2)  # (set2 is not modified)"
   ]
  },
  {
   "cell_type": "markdown",
   "id": "8b1666a4-eef9-46b7-a9fe-4c99c4271759",
   "metadata": {},
   "source": [
    "### 5. What is a dictionary? Give an example. Also, state whether a dictionary is ordered or unordered."
   ]
  },
  {
   "cell_type": "markdown",
   "id": "f0e2cdb8-f935-4194-b085-8fc71c9f650a",
   "metadata": {},
   "source": [
    "A dictionary in Python is a collection of key-value pairs, where each key is associated with a value. Dictionaries are also known as \"associative arrays\" or \"hash maps\" in some programming languages. They are used to store and retrieve data in a way that is efficient and easy to understand. Dictionaries are enclosed in curly braces `{}`, and each key-value pair is separated by a colon `:`.\n",
    "\n",
    "Dictionaries have the following characteristics:\n",
    "\n",
    "1. Unordered: In Python 3.7 and earlier, dictionaries were unordered, which means the key-value pairs did not have a specific order. However, starting from Python 3.7, dictionaries maintain the order of key-value pairs as they were added, so they are considered ordered. This order-preserving behavior continues in Python 3.8 and later.\n",
    "\n",
    "2. Mutable: Dictionaries are mutable, which means you can add, modify, or remove key-value pairs after the dictionary is created.\n",
    "\n",
    "3. Keys Are Unique: Dictionary keys are unique, which means each key can appear only once in a dictionary. If you try to add a duplicate key, it will overwrite the existing value associated with that key."
   ]
  },
  {
   "cell_type": "code",
   "execution_count": 10,
   "id": "36aac28a-9554-4a60-bfb1-9948258c688f",
   "metadata": {},
   "outputs": [
    {
     "name": "stdout",
     "output_type": "stream",
     "text": [
      "Alice\n",
      "30\n",
      "New York\n",
      "name : Alice\n",
      "age : 31\n",
      "country : USA\n"
     ]
    }
   ],
   "source": [
    "# Creating a dictionary\n",
    "my_dict = {\n",
    "    \"name\": \"Alice\",\n",
    "    \"age\": 30,\n",
    "    \"city\": \"New York\"\n",
    "}\n",
    "\n",
    "# Accessing values using keys\n",
    "print(my_dict[\"name\"])  \n",
    "print(my_dict[\"age\"])  \n",
    "print(my_dict[\"city\"])  \n",
    "\n",
    "# Modifying a value\n",
    "my_dict[\"age\"] = 31\n",
    "\n",
    "# Adding a new key-value pair\n",
    "my_dict[\"country\"] = \"USA\"\n",
    "\n",
    "# Removing a key-value pair\n",
    "del my_dict[\"city\"]\n",
    "\n",
    "# Iterating through the dictionary\n",
    "for key, value in my_dict.items():\n",
    "    print(key, \":\", value)"
   ]
  },
  {
   "cell_type": "markdown",
   "id": "b4597f7e-37d5-431b-8219-745b48f21492",
   "metadata": {},
   "source": [
    "### 6.  Can we create a nested dictionary? If so, please give an example by creating a simple one-level nested dictionary."
   ]
  },
  {
   "cell_type": "markdown",
   "id": "6e6ac42d-ce99-44a4-9c57-46fbe0de84ca",
   "metadata": {},
   "source": [
    "Yes, you can create nested dictionaries in Python. A nested dictionary is a dictionary within another dictionary. Each key in the outer dictionary is associated with an inner dictionary, which can, in turn, have its own key-value pairs. This allows you to organize and structure data in a hierarchical manner."
   ]
  },
  {
   "cell_type": "code",
   "execution_count": 11,
   "id": "093ab5d1-329d-4864-8a9f-316a919d1c35",
   "metadata": {},
   "outputs": [
    {
     "name": "stdout",
     "output_type": "stream",
     "text": [
      "Alice\n",
      "alice@example.com\n",
      "555-123-4567\n"
     ]
    }
   ],
   "source": [
    "# Creating a one-level nested dictionary\n",
    "employee = {\n",
    "    \"id\": 123,\n",
    "    \"name\": \"Alice\",\n",
    "    \"contact\": {\n",
    "        \"email\": \"alice@example.com\",\n",
    "        \"phone\": \"555-123-4567\"\n",
    "    }\n",
    "}\n",
    "\n",
    "print(employee[\"name\"])  \n",
    "print(employee[\"contact\"][\"email\"])  \n",
    "print(employee[\"contact\"][\"phone\"])  "
   ]
  },
  {
   "cell_type": "markdown",
   "id": "0b99559e-9ad8-41ad-b093-79fab9f1702b",
   "metadata": {},
   "source": [
    "### 7.  Using setdefault() method, create key named topics in the given dictionary and also add the value of the key as this list ['Python', 'Machine Learning’, 'Deep Learning']."
   ]
  },
  {
   "cell_type": "code",
   "execution_count": 13,
   "id": "7e97e248-508a-4edb-b23b-93ef9c9cc06e",
   "metadata": {},
   "outputs": [
    {
     "name": "stdout",
     "output_type": "stream",
     "text": [
      "{'language': 'Python', 'course': 'Data Science Masters', 'topics': ['Python', 'Machine Learning', 'Deep Learning']}\n"
     ]
    }
   ],
   "source": [
    "# Given dictionary\n",
    "dict1 = {'language' : 'Python', 'course': 'Data Science Masters'}\n",
    "\n",
    "# Using setdefault() to add the \"topics\" key with a list as its value\n",
    "dict1.setdefault(\"topics\", ['Python', 'Machine Learning', 'Deep Learning'])\n",
    "\n",
    "print(dict1)"
   ]
  },
  {
   "cell_type": "markdown",
   "id": "2442aa94-f597-4603-9eb1-2f0943b8ac95",
   "metadata": {},
   "source": [
    "The setdefault() method is useful for adding a key-value pair to a dictionary if the key doesn't already exist. If the key does exist, it leaves the dictionary unchanged."
   ]
  },
  {
   "cell_type": "markdown",
   "id": "b99e3e31-4dc8-4ded-92da-2099c8d1aafb",
   "metadata": {
    "tags": []
   },
   "source": [
    "### 8. What are the three view objects in dictionaries? Use the three in-built methods in python to display these three view objects for the given dictionary."
   ]
  },
  {
   "cell_type": "markdown",
   "id": "44e8fb9b-23ed-45a0-a860-da7cee56d102",
   "metadata": {},
   "source": [
    "In Python dictionaries, there are three view objects that provide dynamic and real-time views of the dictionary's keys, values, and key-value pairs. These view objects are:\n",
    "\n",
    "1. `dict_keys`: This view object represents a dynamic view of the keys in the dictionary.\n",
    "2. `dict_values`: This view object represents a dynamic view of the values in the dictionary.\n",
    "3. `dict_items`: This view object represents a dynamic view of the key-value pairs (items) in the dictionary.\n",
    "\n",
    "You can use the following built-in methods to obtain these view objects for a given dictionary:\n",
    "\n",
    "1. `keys()`: This method returns a `dict_keys` view object containing the keys of the dictionary.\n",
    "2. `values()`: This method returns a `dict_values` view object containing the values of the dictionary.\n",
    "3. `items()`: This method returns a `dict_items` view object containing the key-value pairs of the dictionary."
   ]
  },
  {
   "cell_type": "code",
   "execution_count": 15,
   "id": "a41de077-896d-42f0-92ac-ba3d6df8bba3",
   "metadata": {},
   "outputs": [
    {
     "name": "stdout",
     "output_type": "stream",
     "text": [
      "Keys View: dict_keys(['Sport', 'Teams'])\n",
      "Values View: dict_values(['Cricket', ['India', 'Australia', 'England', 'South Africa', 'Sri Lanka', 'New Zealand']])\n",
      "Items View: dict_items([('Sport', 'Cricket'), ('Teams', ['India', 'Australia', 'England', 'South Africa', 'Sri Lanka', 'New Zealand'])])\n"
     ]
    }
   ],
   "source": [
    "dict1 = {'Sport': 'Cricket' , 'Teams': ['India', 'Australia', 'England', 'South Africa', 'Sri Lanka', 'New Zealand']}\n",
    "\n",
    "# Using the methods to get the view objects\n",
    "keys_view = dict1.keys()\n",
    "values_view = dict1.values()\n",
    "items_view = dict1.items()\n",
    "\n",
    "print(\"Keys View:\", keys_view)\n",
    "print(\"Values View:\", values_view)\n",
    "print(\"Items View:\", items_view)"
   ]
  },
  {
   "cell_type": "markdown",
   "id": "4342d2ad-5836-4f49-a909-55dfb5819bdd",
   "metadata": {},
   "source": [
    "These view objects are dynamic, which means they reflect changes made to the dictionary in real-time. You can use them for various purposes, including iterating through the dictionary's keys, values, and items without needing to create lists or other data structures."
   ]
  },
  {
   "cell_type": "code",
   "execution_count": null,
   "id": "ff8b5d59-547f-48fa-a710-20c94fec544e",
   "metadata": {},
   "outputs": [],
   "source": []
  }
 ],
 "metadata": {
  "kernelspec": {
   "display_name": "Python 3 (ipykernel)",
   "language": "python",
   "name": "python3"
  },
  "language_info": {
   "codemirror_mode": {
    "name": "ipython",
    "version": 3
   },
   "file_extension": ".py",
   "mimetype": "text/x-python",
   "name": "python",
   "nbconvert_exporter": "python",
   "pygments_lexer": "ipython3",
   "version": "3.10.8"
  }
 },
 "nbformat": 4,
 "nbformat_minor": 5
}
