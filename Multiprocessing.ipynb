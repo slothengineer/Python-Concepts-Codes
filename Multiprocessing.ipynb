{
 "cells": [
  {
   "cell_type": "markdown",
   "id": "8f3f36a3-8ca3-431f-aa9d-f684e942b154",
   "metadata": {},
   "source": [
    "# Multiprocessing"
   ]
  },
  {
   "cell_type": "markdown",
   "id": "b537108f-f5e7-4be7-a921-f524a146cb27",
   "metadata": {},
   "source": [
    "### 1. What is multiprocessing in python? Why is it useful?"
   ]
  },
  {
   "cell_type": "markdown",
   "id": "282040e5-a219-4a38-87f4-2aa5377cb926",
   "metadata": {},
   "source": [
    "Multiprocessing in Python is a programming technique that involves using multiple processes, rather than multiple threads, to achieve parallelism and perform multiple tasks simultaneously. Each process runs in its own separate memory space and has its own Python interpreter, which allows it to execute independently. The Python standard library provides the `multiprocessing` module to facilitate multiprocessing in Python.\n",
    "\n",
    "Multiprocessing is useful for several reasons:\n",
    "\n",
    "1. **Leveraging Multiple CPU Cores**: One of the primary advantages of multiprocessing is that it can take full advantage of multi-core processors. Each process can run on a separate core, which can lead to a significant improvement in performance and execution speed for CPU-bound tasks. This is particularly beneficial for computationally intensive applications.\n",
    "\n",
    "2. **Isolation**: Unlike multithreading, where threads share the same memory space and can potentially interfere with each other, processes run in isolated memory spaces. This isolation makes it easier to reason about program behavior and avoids many common concurrency issues, such as race conditions and deadlocks.\n",
    "\n",
    "3. **Parallelism**: Multiprocessing is suitable for achieving true parallelism because each process can execute independently. This is in contrast to multithreading, where the Global Interpreter Lock (GIL) in Python can limit the true parallel execution of threads.\n",
    "\n",
    "4. **Fault Tolerance**: In a multiprocessing environment, if one process encounters an error or crashes, it is less likely to affect other processes. This makes multiprocessing more resilient and fault-tolerant.\n",
    "\n",
    "5. **Distributed Computing**: Multiprocessing is well-suited for distributed and cluster computing, where processes can run on different machines in a network, allowing for scalable and distributed processing.\n",
    "\n",
    "6. **I/O-bound Tasks**: While multiprocessing is most beneficial for CPU-bound tasks, it can also be used for I/O-bound tasks, where processes can take advantage of concurrent I/O operations. However, it may not be as efficient as asynchronous programming for pure I/O-bound tasks.\n",
    "\n",
    "Overall, multiprocessing in Python is a valuable tool for achieving parallelism, improving performance, and handling concurrent tasks, especially when you have access to multi-core CPUs and need to perform computationally intensive operations. It offers a more straightforward way to avoid the Global Interpreter Lock (GIL) limitations that can impact multithreading in Python, making it a good choice for a wide range of parallel and concurrent programming scenarios."
   ]
  },
  {
   "cell_type": "markdown",
   "id": "4136fcc0-da03-42de-9eaf-bd39e93e089c",
   "metadata": {},
   "source": [
    "### 2. What are the differences between multiprocessing and multithreading?"
   ]
  },
  {
   "cell_type": "markdown",
   "id": "debaa49a-ed17-46f8-88dc-17177515d698",
   "metadata": {},
   "source": [
    "Multiprocessing and multithreading are both techniques used for achieving parallelism in computer programs, but they have significant differences in terms of how they create and manage concurrent tasks. Here are the key differences between multiprocessing and multithreading:\n",
    "\n",
    "1. **Processes vs. Threads**:\n",
    "   - **Multiprocessing**: In multiprocessing, tasks are executed in multiple processes, each with its own memory space and Python interpreter. Processes are separate and independent from one another, allowing them to run in true parallel on multi-core processors.\n",
    "   - **Multithreading**: In multithreading, tasks are executed in multiple threads within a single process. Threads share the same memory space and Python interpreter. While threads can run concurrently, they may not achieve true parallelism on multi-core processors due to the Global Interpreter Lock (GIL) in CPython (the standard Python interpreter).\n",
    "\n",
    "2. **Isolation**:\n",
    "   - **Multiprocessing**: Processes are isolated from each other, meaning that one process's memory and data do not affect another process. This isolation simplifies concurrent programming and eliminates many common synchronization issues.\n",
    "   - **Multithreading**: Threads share the same memory space, which can lead to potential race conditions, deadlocks, and complex synchronization challenges. Proper synchronization mechanisms are required to avoid data corruption.\n",
    "\n",
    "3. **Resource Overhead**:\n",
    "   - **Multiprocessing**: Creating and managing processes typically incurs more overhead in terms of memory and system resources compared to threads. Processes have their own memory space and separate resources, making process creation more resource-intensive.\n",
    "   - **Multithreading**: Threads have lower resource overhead compared to processes because they share memory space and system resources. Creating and managing threads is generally more efficient in terms of resource usage.\n",
    "\n",
    "4. **Fault Tolerance**:\n",
    "   - **Multiprocessing**: If one process encounters an error or crashes, it is less likely to affect other processes. Multiprocessing provides a level of fault tolerance due to the isolation between processes.\n",
    "   - **Multithreading**: If one thread encounters an error (e.g., a segmentation fault), it can potentially crash the entire process, affecting all threads within that process. Multithreading offers less fault tolerance in this regard.\n",
    "\n",
    "5. **Global Interpreter Lock (GIL)**:\n",
    "   - **Multiprocessing**: The GIL does not affect multiprocessing, as each process has its own Python interpreter. This allows multiple CPU cores to be fully utilized for CPU-bound tasks.\n",
    "   - **Multithreading**: The GIL in CPython can limit the true parallel execution of threads, making it less effective for CPU-bound tasks. Threads may not take full advantage of multi-core processors.\n",
    "\n",
    "6. **Use Cases**:\n",
    "   - **Multiprocessing**: Well-suited for CPU-bound tasks that can benefit from true parallelism on multi-core processors. Also suitable for achieving fault tolerance and scalability.\n",
    "   - **Multithreading**: Suitable for I/O-bound tasks where threads can perform non-blocking I/O operations. May not be as effective for CPU-bound tasks due to the GIL.\n",
    "\n",
    "The choice between multiprocessing and multithreading depends on the specific requirements and constraints of your application. Multiprocessing is typically preferred for CPU-bound tasks that can benefit from true parallelism, while multithreading is more suitable for I/O-bound tasks and tasks that require lightweight concurrency within a single process."
   ]
  },
  {
   "cell_type": "markdown",
   "id": "7a57dc10-976b-41f9-a7b2-ca472d3521c8",
   "metadata": {},
   "source": [
    "### 3. Write a python code to create a process using the multiprocessing module."
   ]
  },
  {
   "cell_type": "code",
   "execution_count": 5,
   "id": "7d5060e6-d8c1-42e6-998e-94ae4f6ab87f",
   "metadata": {},
   "outputs": [
    {
     "name": "stdout",
     "output_type": "stream",
     "text": [
      "Hello from the new process!\n",
      "Main process continues\n"
     ]
    }
   ],
   "source": [
    "import multiprocessing\n",
    "\n",
    "# Function to be executed in the new process\n",
    "def print_hello():\n",
    "    print(\"Hello from the new process!\")\n",
    "\n",
    "if __name__ == \"__main__\":\n",
    "    # Create a new process\n",
    "    new_process = multiprocessing.Process(target=print_hello)\n",
    "\n",
    "    # Start the process\n",
    "    new_process.start()\n",
    "\n",
    "    # Wait for the process to complete \n",
    "    new_process.join()\n",
    "\n",
    "    print(\"Main process continues\")"
   ]
  },
  {
   "cell_type": "markdown",
   "id": "89d4bb45-3bcf-4ea5-a095-beb6e01c2532",
   "metadata": {},
   "source": [
    "1. We import the multiprocessing module.\n",
    "\n",
    "2. We define a function print_hello() that will be executed in the new process. This function simply prints a \"Hello\" message.\n",
    "\n",
    "3. We check if the script is being run as the main program using if __name__ == \"__main__\":. This is important for ensuring that the code runs correctly on Windows systems.\n",
    "\n",
    "4. We create a new process called new_process and specify the target function print_hello to be executed in the new process.\n",
    "\n",
    "5. We start the new process using new_process.start(). This will initiate the execution of the print_hello function in the new process.\n",
    "\n",
    "6. Optionally, we can use new_process.join() to wait for the new process to complete. This ensures that the main process won't continue until the new process has finished.\n",
    "\n",
    "7. Finally, we print a message from the main process to indicate that it continues to run.\n",
    "\n",
    "When you run this code, you'll see the \"Hello from the new process!\" message printed from the new process, and then the \"Main process continues\" message from the main process. The two processes run independently of each other."
   ]
  },
  {
   "cell_type": "markdown",
   "id": "9cdb78b9-e99a-40b7-ad28-9fa8b82e04df",
   "metadata": {},
   "source": [
    "### 4. What is a multiprocessing pool in python? Why is it used?"
   ]
  },
  {
   "cell_type": "markdown",
   "id": "2566cddb-53d9-4b5f-86aa-6109810af50a",
   "metadata": {},
   "source": [
    "A multiprocessing pool in Python is a mechanism provided by the `multiprocessing` module to efficiently manage and distribute multiple processes for parallel execution. It is a way to create and manage a group of worker processes that can perform tasks concurrently. Multiprocessing pools are primarily used for parallelizing tasks across a set of workers, which can significantly improve the efficiency of concurrent operations, particularly for CPU-bound or I/O-bound tasks.\n",
    "\n",
    "The main features and use cases of multiprocessing pools are as follows:\n",
    "\n",
    "1. **Task Parallelism**: Multiprocessing pools are used to execute multiple tasks or functions in parallel. You can submit a list of tasks to the pool, and the tasks are distributed among the worker processes for concurrent execution. This is especially useful when you have a batch of similar tasks that can be executed independently.\n",
    "\n",
    "2. **Load Balancing**: Multiprocessing pools automatically distribute tasks to worker processes in a balanced way, ensuring that each worker gets roughly the same amount of work. This load balancing helps utilize all available CPU cores efficiently.\n",
    "\n",
    "3. **Worker Recycling**: Worker processes in a pool are typically recycled, which means that they are reused to execute multiple tasks. This recycling is more efficient than creating and destroying a new process for each task, as it saves the overhead of process creation.\n",
    "\n",
    "4. **Results Retrieval**: Multiprocessing pools provide mechanisms to retrieve the results of the executed tasks. You can use functions like `apply_async`, `map`, or `imap` to submit tasks and collect the results.\n",
    "\n",
    "5. **Parallelism on Multi-Core CPUs**: Multiprocessing pools are particularly effective on multi-core processors, as they can utilize all available cores to perform tasks in parallel. This can lead to substantial performance improvements for CPU-bound tasks.\n",
    "\n",
    "Example of how to use a multiprocessing pool to parallelize a set of tasks:"
   ]
  },
  {
   "cell_type": "code",
   "execution_count": 6,
   "id": "850a2d83-3802-4594-92d5-c4df3c35f5b1",
   "metadata": {},
   "outputs": [
    {
     "name": "stdout",
     "output_type": "stream",
     "text": [
      "Results: [1, 4, 9, 16, 25]\n"
     ]
    }
   ],
   "source": [
    "import multiprocessing\n",
    "\n",
    "# Function to be executed in parallel\n",
    "def square(x):\n",
    "    return x * x\n",
    "\n",
    "if __name__ == \"__main__\":\n",
    "    # Create a multiprocessing pool with 4 worker processes\n",
    "    pool = multiprocessing.Pool(processes=4)\n",
    "\n",
    "    # List of values to square\n",
    "    values = [1, 2, 3, 4, 5]\n",
    "\n",
    "    # Use the pool to parallelize the squaring of values\n",
    "    results = pool.map(square, values)\n",
    "\n",
    "    # Close and join the pool\n",
    "    pool.close()\n",
    "    pool.join()\n",
    "\n",
    "    print(\"Results:\", results)"
   ]
  },
  {
   "cell_type": "markdown",
   "id": "9970d9e6-25e7-45b5-bf24-26cf24eb34c9",
   "metadata": {},
   "source": [
    "In this example, a multiprocessing pool is created with four worker processes. The `square` function is applied to a list of values in parallel, and the results are collected. Multiprocessing pools are particularly useful when you need to parallelize a set of similar tasks, such as data processing, rendering, or scientific computations, to take advantage of multi-core CPUs and improve performance."
   ]
  },
  {
   "cell_type": "markdown",
   "id": "462fbfb7-15a8-49b1-be67-24ca139c7b85",
   "metadata": {},
   "source": [
    "### 5. How can we create a pool of worker processes in python using the multiprocessing module?"
   ]
  },
  {
   "cell_type": "markdown",
   "id": "5df0f833-d5ce-4bf0-a1e0-e0fbe33f216c",
   "metadata": {},
   "source": [
    "To create a pool of worker processes in Python using the `multiprocessing` module, you can use the `Pool` class. The `Pool` class provides a convenient way to manage a group of worker processes for parallel execution of tasks. Here's how you can create a pool of worker processes:"
   ]
  },
  {
   "cell_type": "code",
   "execution_count": 10,
   "id": "f8ec9e6d-9f90-46ba-a227-bc6cb9129a23",
   "metadata": {},
   "outputs": [
    {
     "name": "stdout",
     "output_type": "stream",
     "text": [
      "Results: [1, 4, 9, 16, 25]\n"
     ]
    }
   ],
   "source": [
    "import multiprocessing\n",
    "\n",
    "# Function to be executed in parallel\n",
    "def square(x):\n",
    "    return x * x\n",
    "\n",
    "if __name__ == \"__main__\":\n",
    "    # Create a multiprocessing pool with a specified number of worker processes (e.g., 4)\n",
    "    pool = multiprocessing.Pool(processes=4)\n",
    "\n",
    "    # List of values to process in parallel\n",
    "    values = [1, 2, 3, 4, 5]\n",
    "\n",
    "    # Use the pool to parallelize the execution of the 'square' function\n",
    "    results = pool.map(square, values)\n",
    "\n",
    "    # Close the pool (optional)\n",
    "    pool.close()\n",
    "\n",
    "    # Wait for all processes to complete\n",
    "    pool.join()\n",
    "\n",
    "    print(\"Results:\", results)"
   ]
  },
  {
   "cell_type": "markdown",
   "id": "ee5dadae-96c6-4969-bd7f-58e21a56b443",
   "metadata": {},
   "source": [
    "In this code:\n",
    "\n",
    "1. We import the `multiprocessing` module.\n",
    "\n",
    "2. We define a simple function `square(x)` that squares a number `x`. This function will be executed in parallel by the worker processes.\n",
    "\n",
    "3. Inside the `if __name__ == \"__main__\":` block, we ensure that the code is being run as the main program to avoid issues with spawning new processes on Windows.\n",
    "\n",
    "4. We create a multiprocessing pool using the `multiprocessing.Pool` class, specifying the number of worker processes to create (in this example, `processes=4`).\n",
    "\n",
    "5. We define a list of values (`values`) that we want to process in parallel. In this case, we want to calculate the square of each value.\n",
    "\n",
    "6. We use the `pool.map` method to parallelize the execution of the `square` function on the list of values. This method distributes the work among the worker processes, and the results are returned as a list (`results`).\n",
    "\n",
    "7. Optionally, we can close the pool using `pool.close()` when we no longer need to submit new tasks to it.\n",
    "\n",
    "8. We use `pool.join()` to wait for all the worker processes to complete their tasks. This ensures that the main program doesn't exit before the workers have finished.\n",
    "\n",
    "9. Finally, we print the results obtained from the parallel execution of the tasks.\n",
    "\n",
    "Using a multiprocessing pool in this way is a straightforward and efficient method for parallelizing tasks across multiple worker processes, making it an essential tool for achieving parallelism and improving the performance of your Python programs."
   ]
  },
  {
   "cell_type": "markdown",
   "id": "b59337a8-2806-4828-b329-78466cfeab1f",
   "metadata": {},
   "source": [
    "### 6. Write a python program to create 4 processes, each process should print a different number using the multiprocessing module in python."
   ]
  },
  {
   "cell_type": "code",
   "execution_count": 11,
   "id": "1b2640ab-1556-4d21-b65b-5e41b2704cab",
   "metadata": {},
   "outputs": [
    {
     "name": "stdout",
     "output_type": "stream",
     "text": [
      "Process 1: 1Process 2: 2Process 3: 3Process 4: 4\n",
      "\n",
      "\n",
      "\n"
     ]
    }
   ],
   "source": [
    "import multiprocessing\n",
    "\n",
    "# Function to print a number\n",
    "def print_number(number):\n",
    "    print(f\"Process {number}: {number}\")\n",
    "\n",
    "if __name__ == \"__main__\":\n",
    "    # Create a list of numbers to pass to processes\n",
    "    numbers = [1, 2, 3, 4]\n",
    "\n",
    "    # Create a multiprocessing pool with 4 worker processes\n",
    "    pool = multiprocessing.Pool(processes=4)\n",
    "\n",
    "    # Use the pool to parallelize the execution of 'print_number' with different numbers\n",
    "    pool.map(print_number, numbers)\n",
    "\n",
    "    # Close the pool (optional)\n",
    "    pool.close()\n",
    "\n",
    "    # Wait for all processes to complete\n",
    "    pool.join()"
   ]
  },
  {
   "cell_type": "code",
   "execution_count": null,
   "id": "086b1444-1cac-41f5-875d-2996c2ab0445",
   "metadata": {},
   "outputs": [],
   "source": []
  }
 ],
 "metadata": {
  "kernelspec": {
   "display_name": "Python 3 (ipykernel)",
   "language": "python",
   "name": "python3"
  },
  "language_info": {
   "codemirror_mode": {
    "name": "ipython",
    "version": 3
   },
   "file_extension": ".py",
   "mimetype": "text/x-python",
   "name": "python",
   "nbconvert_exporter": "python",
   "pygments_lexer": "ipython3",
   "version": "3.10.8"
  }
 },
 "nbformat": 4,
 "nbformat_minor": 5
}
