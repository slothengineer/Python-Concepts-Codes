{
 "cells": [
  {
   "cell_type": "markdown",
   "id": "750e9dd4-cf2b-499a-aa89-543a2b4c3b2e",
   "metadata": {},
   "source": [
    "# Multithreading"
   ]
  },
  {
   "cell_type": "markdown",
   "id": "60fb9ed2-e955-45e8-917c-76a46c264952",
   "metadata": {},
   "source": [
    "### 1. What is multithreading in python? Why is it used? Name the module used to handle threads in python."
   ]
  },
  {
   "cell_type": "markdown",
   "id": "deac2d95-dd62-4a33-b31c-98b56dfc5dad",
   "metadata": {},
   "source": [
    "Multithreading in Python is a concurrent programming technique that allows us to run multiple threads (smaller units of a program) within the same process. Each thread can execute a different part of our program's code independently, and they share the same memory space, making it possible to perform multiple tasks simultaneously.\n",
    "\n",
    "Multithreading is used to achieve parallelism and make better use of multi-core processors, as it allows us to take advantage of multiple CPU cores to execute tasks in parallel, improving the overall performance of our program. It is particularly useful for I/O-bound and network-bound tasks, where threads can perform non-blocking operations, allowing other threads to continue working.\n",
    "\n",
    "The primary module used to handle threads in Python is the \"threading\" module. It provides a high-level interface for creating and managing threads in our Python programs. We can create new threads, start them, synchronize their execution, and communicate between them using various methods and classes provided by the threading module. It abstracts away many of the lower-level details involved in thread management, making it easier to work with threads in Python."
   ]
  },
  {
   "cell_type": "markdown",
   "id": "898a5746-4110-4303-9504-9701b7f819ef",
   "metadata": {},
   "source": [
    "### 2. Why threading module used? rite the use of the following functions\n",
    "1. activeCount()\n",
    "2. currentThread()\n",
    "3. enumerate()"
   ]
  },
  {
   "cell_type": "markdown",
   "id": "bb5429b7-064c-451a-bf53-4062ed502324",
   "metadata": {},
   "source": [
    "The threading module in Python is used to work with threads, allowing you to create, manage, and synchronize threads in your programs. Here are the descriptions and use of the functions you mentioned:\n",
    "\n",
    "1. `activeCount()`: This function is used to get the number of Thread objects currently alive. It returns an integer value representing the number of active threads. You can use it to monitor the active threads in your program.\n",
    "\n",
    "   Example:"
   ]
  },
  {
   "cell_type": "code",
   "execution_count": 2,
   "id": "28aa0cd3-0cd9-4913-8564-2279e84d4102",
   "metadata": {},
   "outputs": [
    {
     "name": "stdout",
     "output_type": "stream",
     "text": [
      "Thread is running\n",
      "Thread is running\n",
      "Active threads: 8\n"
     ]
    },
    {
     "name": "stderr",
     "output_type": "stream",
     "text": [
      "/tmp/ipykernel_70/2557323128.py:13: DeprecationWarning: activeCount() is deprecated, use active_count() instead\n",
      "  num_active_threads = threading.activeCount()\n"
     ]
    }
   ],
   "source": [
    "import threading\n",
    "\n",
    "def my_function():\n",
    "    print(\"Thread is running\")\n",
    "\n",
    "   # Create and start some threads\n",
    "thread1 = threading.Thread(target = my_function)\n",
    "thread2 = threading.Thread(target = my_function)\n",
    "thread1.start()\n",
    "thread2.start()\n",
    "\n",
    "   # Get the number of active threads\n",
    "num_active_threads = threading.activeCount()\n",
    "print(f\"Active threads: {num_active_threads}\")"
   ]
  },
  {
   "cell_type": "markdown",
   "id": "4ef967b2-6715-47ae-b900-16d870dd40a9",
   "metadata": {},
   "source": [
    "2. `currentThread()`: This function returns the current Thread object, representing the thread from which it is called. You can use it to access information about the current thread, such as its name or ID.\n",
    "\n",
    "   Example:"
   ]
  },
  {
   "cell_type": "code",
   "execution_count": 5,
   "id": "d5e61be1-8ba0-473e-98a0-42a79f77294e",
   "metadata": {},
   "outputs": [
    {
     "name": "stdout",
     "output_type": "stream",
     "text": [
      "Current thread name: MyThread\n"
     ]
    },
    {
     "name": "stderr",
     "output_type": "stream",
     "text": [
      "/tmp/ipykernel_70/2763770778.py:4: DeprecationWarning: currentThread() is deprecated, use current_thread() instead\n",
      "  current_thread = threading.currentThread()\n"
     ]
    }
   ],
   "source": [
    "import threading\n",
    "\n",
    "def my_function():\n",
    "    current_thread = threading.currentThread()\n",
    "    print(f\"Current thread name: {current_thread.name}\")\n",
    "\n",
    "   # Create and start a thread\n",
    "thread = threading.Thread(target=my_function, name=\"MyThread\")\n",
    "thread.start()"
   ]
  },
  {
   "cell_type": "markdown",
   "id": "9c1437a4-5813-4fea-bb05-dc31dede38ab",
   "metadata": {},
   "source": [
    "3. `enumerate()`: The `enumerate()` function returns a list of all currently active Thread objects. It allows you to iterate through and access information about all the threads that are currently running in your program.\n",
    "\n",
    "   Example:"
   ]
  },
  {
   "cell_type": "code",
   "execution_count": 6,
   "id": "f0f98c14-ff7d-4c8d-8d7f-f7c8f1a0e034",
   "metadata": {},
   "outputs": [
    {
     "name": "stdout",
     "output_type": "stream",
     "text": [
      "Thread name: MainThread, ID: 140257510102848\n",
      "Thread name: IOPub, ID: 140257439573568\n",
      "Thread name: Heartbeat, ID: 140257431180864\n",
      "Thread name: Thread-3 (_watch_pipe_fd), ID: 140257406002752\n",
      "Thread name: Thread-4 (_watch_pipe_fd), ID: 140257055995456\n",
      "Thread name: Control, ID: 140257047602752\n",
      "Thread name: IPythonHistorySavingThread, ID: 140257039210048\n",
      "Thread name: Thread-2, ID: 140257030817344\n"
     ]
    }
   ],
   "source": [
    "import threading\n",
    "\n",
    "def my_function():\n",
    "    pass\n",
    "\n",
    "   # Create and start some threads\n",
    "thread1 = threading.Thread(target=my_function)\n",
    "thread2 = threading.Thread(target=my_function)\n",
    "thread1.start()\n",
    "thread2.start()\n",
    "\n",
    "   # Get a list of all active threads\n",
    "active_threads = threading.enumerate()\n",
    "\n",
    "   # Iterate through the active threads\n",
    "for thread in active_threads:\n",
    "       print(f\"Thread name: {thread.name}, ID: {thread.ident}\")"
   ]
  },
  {
   "cell_type": "markdown",
   "id": "8b6e5df9-a5a6-4c8a-8cdd-de4f13aaad10",
   "metadata": {},
   "source": [
    "These functions are helpful for managing and monitoring threads in your Python programs, making it easier to work with concurrent code."
   ]
  },
  {
   "cell_type": "markdown",
   "id": "2b35dce9-1133-4aaf-8458-385c660404aa",
   "metadata": {},
   "source": [
    "### 3. Explain the following functions\n",
    "1. run()\n",
    "2. start()\n",
    "3. join()\n",
    "4. isAlive()"
   ]
  },
  {
   "cell_type": "markdown",
   "id": "e1b40377-637f-4085-af42-3c3a2ff13ff5",
   "metadata": {},
   "source": [
    "Here are explanations for the functions you mentioned in the context of Python's threading module:\n",
    "\n",
    "1. `run()`: The `run()` method is a standard method of the `Thread` class, and it defines the code that the thread should execute. You can override this method in your custom thread class by creating a subclass of `threading.Thread` and implementing your own `run()` method. When you create an instance of your custom thread class and call the `start()` method, it will execute the code specified in your `run()` method. This allows you to define the main functionality of your thread.\n",
    "\n",
    "   Example:"
   ]
  },
  {
   "cell_type": "code",
   "execution_count": 7,
   "id": "b4ddc383-ef54-4ce4-8caa-505b623eb4d7",
   "metadata": {},
   "outputs": [
    {
     "name": "stdout",
     "output_type": "stream",
     "text": [
      "Thread is running\n"
     ]
    }
   ],
   "source": [
    "import threading\n",
    "\n",
    "class MyThread(threading.Thread):\n",
    "    def run(self):\n",
    "        print(\"Thread is running\")\n",
    "\n",
    "   # Create and start a custom thread\n",
    "thread = MyThread()\n",
    "thread.start()"
   ]
  },
  {
   "cell_type": "markdown",
   "id": "da485c7a-c2f4-44e0-adb9-311240e038fb",
   "metadata": {},
   "source": [
    "2. `start()`: The `start()` method is used to start the execution of a thread. When you call `start()`, it initiates the thread's execution by invoking the `run()` method of the thread. It doesn't execute the `run()` method directly; instead, it handles thread creation and scheduling. Calling `start()` is the recommended way to start a thread.\n",
    "\n",
    "   Example:"
   ]
  },
  {
   "cell_type": "code",
   "execution_count": 8,
   "id": "abf302eb-727f-4b3c-94e7-e3fd5429358d",
   "metadata": {},
   "outputs": [
    {
     "name": "stdout",
     "output_type": "stream",
     "text": [
      "Thread is running\n"
     ]
    }
   ],
   "source": [
    "import threading\n",
    "\n",
    "def my_function():\n",
    "    print(\"Thread is running\")\n",
    "\n",
    "   # Create and start a thread\n",
    "thread = threading.Thread(target=my_function)\n",
    "thread.start()"
   ]
  },
  {
   "cell_type": "markdown",
   "id": "fb61185a-532a-46fe-8a1d-acd880daa285",
   "metadata": {},
   "source": [
    "3. `join()`: The `join()` method is used to make one thread wait for another thread to complete its execution. When you call `join()` on a thread, the calling thread will pause and wait for the specified thread to finish before it continues its own execution. This is useful for coordinating the execution of multiple threads and ensuring that they complete their work in a specific order.\n",
    "\n",
    "   Example:"
   ]
  },
  {
   "cell_type": "code",
   "execution_count": 9,
   "id": "8c7bcffb-d99f-43b0-9d15-5807e88829a0",
   "metadata": {},
   "outputs": [
    {
     "name": "stdout",
     "output_type": "stream",
     "text": [
      "Worker thread is working\n",
      "Main thread continues\n"
     ]
    }
   ],
   "source": [
    "import threading\n",
    "\n",
    "def worker():\n",
    "    print(\"Worker thread is working\")\n",
    "\n",
    "   # Create a thread\n",
    "thread = threading.Thread(target=worker)\n",
    "\n",
    "   # Start the thread\n",
    "thread.start()\n",
    "\n",
    "   # Wait for the thread to finish\n",
    "thread.join()\n",
    "\n",
    "print(\"Main thread continues\")"
   ]
  },
  {
   "cell_type": "markdown",
   "id": "fb6a1565-59ee-441d-9d4a-21e12a6e15b1",
   "metadata": {},
   "source": [
    "4. `isAlive()`: The `isAlive()` method is used to check whether a thread is currently active and running. It returns `True` if the thread is still running, and `False` if it has completed its execution. This can be useful for checking the status of a thread before taking further actions in your program based on the thread's status.\n",
    "\n",
    "   Example:"
   ]
  },
  {
   "cell_type": "code",
   "execution_count": 12,
   "id": "15e4c974-5a5a-45b5-9729-a51236671d6b",
   "metadata": {},
   "outputs": [
    {
     "name": "stdout",
     "output_type": "stream",
     "text": [
      "Thread is still running\n"
     ]
    }
   ],
   "source": [
    "import threading\n",
    "import time\n",
    "\n",
    "def my_function():\n",
    "    time.sleep(2)\n",
    "\n",
    "   # Create and start a thread\n",
    "thread = threading.Thread(target=my_function)\n",
    "thread.start()\n",
    "\n",
    "   # Check if the thread is alive\n",
    "if thread.is_alive():\n",
    "    print(\"Thread is still running\")\n",
    "else:\n",
    "    print(\"Thread has completed\")"
   ]
  },
  {
   "cell_type": "markdown",
   "id": "9dbf552a-34ee-42b4-b0a1-24cec09f98d8",
   "metadata": {},
   "source": [
    "### 4. Write a python program to create two threads. Thread one must print the list of squares and thread two must print the list of cubes."
   ]
  },
  {
   "cell_type": "code",
   "execution_count": 13,
   "id": "9160b704-d883-4533-b36f-5c239bbeef36",
   "metadata": {},
   "outputs": [
    {
     "name": "stdout",
     "output_type": "stream",
     "text": [
      "Square of 1 is 1\n",
      "Square of 2 is 4\n",
      "Square of 3 is 9\n",
      "Square of 4 is 16\n",
      "Square of 5 is 25\n",
      "Cube of 1 is 1\n",
      "Cube of 2 is 8\n",
      "Cube of 3 is 27\n",
      "Cube of 4 is 64\n",
      "Cube of 5 is 125\n",
      "Both threads have finished.\n"
     ]
    }
   ],
   "source": [
    "import threading\n",
    "\n",
    "# Function to calculate squares\n",
    "def print_squares():\n",
    "    for i in range(1, 6):\n",
    "        print(f\"Square of {i} is {i*i}\")\n",
    "\n",
    "# Function to calculate cubes\n",
    "def print_cubes():\n",
    "    for i in range(1, 6):\n",
    "        print(f\"Cube of {i} is {i*i*i}\")\n",
    "\n",
    "# Create two thread objects\n",
    "thread1 = threading.Thread(target=print_squares)\n",
    "thread2 = threading.Thread(target=print_cubes)\n",
    "\n",
    "# Start the threads\n",
    "thread1.start()\n",
    "thread2.start()\n",
    "\n",
    "# Wait for both threads to finish\n",
    "thread1.join()\n",
    "thread2.join()\n",
    "\n",
    "print(\"Both threads have finished.\")"
   ]
  },
  {
   "cell_type": "markdown",
   "id": "d265e437-a212-4160-9eca-cb027d289a48",
   "metadata": {},
   "source": [
    "### 5. State advantages and disadvantages of multithreading."
   ]
  },
  {
   "cell_type": "markdown",
   "id": "44185753-3509-40af-89ef-693bd2ed5666",
   "metadata": {},
   "source": [
    "Multithreading has both advantages and disadvantages, and the choice of whether to use it in a particular application depends on the specific requirements and constraints. Here are some advantages and disadvantages of multithreading:\n",
    "\n",
    "Advantages of Multithreading:\n",
    "\n",
    "1. **Improved Performance**: Multithreading can lead to better performance, particularly on multi-core processors. It allows you to parallelize tasks, making better use of available CPU resources and potentially speeding up the execution of a program.\n",
    "\n",
    "2. **Responsiveness**: Multithreading can help maintain the responsiveness of an application, especially in user interfaces and applications that involve I/O operations. While one thread is blocked waiting for I/O, other threads can continue to execute.\n",
    "\n",
    "3. **Resource Sharing**: Threads within the same process share the same memory space, which can simplify data sharing and communication between threads. This can be more efficient and faster than inter-process communication.\n",
    "\n",
    "4. **Modular Design**: Multithreading allows for a modular design of complex applications, where different parts of the application can be implemented as separate threads. This can improve code organization and maintainability.\n",
    "\n",
    "5. **Scalability**: Multithreading provides a way to scale the performance of a program by adding more threads, which is particularly useful for server applications handling multiple client connections.\n",
    "\n",
    "Disadvantages of Multithreading:\n",
    "\n",
    "1. **Complexity**: Multithreading can introduce complexity and make the code harder to understand and debug. Race conditions, deadlocks, and synchronization issues can be challenging to deal with.\n",
    "\n",
    "2. **Synchronization Overhead**: When multiple threads access shared resources, they may need to be synchronized to prevent data corruption. This synchronization can introduce overhead and reduce the benefits of parallelism.\n",
    "\n",
    "3. **Platform Dependence**: Multithreading behavior can be platform-dependent. Different operating systems and thread libraries may have variations in how they handle threads and synchronization, making code less portable.\n",
    "\n",
    "4. **Increased Memory Usage**: Each thread has its own stack and may require additional memory for thread management. This can increase the memory footprint of the application.\n",
    "\n",
    "5. **Potential for Bugs**: Multithreaded programs are susceptible to concurrency-related bugs, such as race conditions, deadlocks, and priority inversions. Debugging these issues can be time-consuming and challenging.\n",
    "\n",
    "6. **Limited Parallelism**: The degree of parallelism achieved in multithreading is limited by the number of available CPU cores. Overloading a system with too many threads can lead to diminishing returns.\n",
    "\n",
    "Multithreading can significantly benefit performance and responsiveness in certain types of applications, but it comes with the challenge of managing concurrency issues. Developers should carefully consider the trade-offs and design their multithreaded applications with care to harness the advantages while mitigating the disadvantages."
   ]
  },
  {
   "cell_type": "markdown",
   "id": "d0b1639f-60d3-44f0-a45d-3644b323f489",
   "metadata": {},
   "source": [
    "### 6. Explain deadlocks and race conditions."
   ]
  },
  {
   "cell_type": "markdown",
   "id": "05b01d07-0dd4-44b1-9cee-807f9425cdd4",
   "metadata": {},
   "source": [
    "Deadlocks and race conditions are two common synchronization issues that can occur in multithreaded programs.\n",
    "\n",
    "1. **Deadlock**:\n",
    "\n",
    "   A deadlock is a situation in which two or more threads are unable to proceed because each is waiting for the other(s) to release a resource, and none of them is willing to release their resource. As a result, the threads are stuck in a circular waiting state, and the program comes to a standstill. Deadlocks can be a significant issue in multithreaded applications and can be challenging to detect and resolve.\n",
    "\n",
    "   Deadlock conditions typically involve the following four necessary conditions:\n",
    "   - Mutual Exclusion: At least one resource must be held in a non-shareable mode (e.g., locked).\n",
    "   - Hold and Wait: A thread must hold at least one resource and wait to acquire additional resources.\n",
    "   - No Preemption: Resources cannot be forcibly taken away from the threads holding them; they must be released voluntarily.\n",
    "   - Circular Wait: There must be a circular chain of two or more threads, where each is waiting for a resource held by the next thread in the chain.\n",
    "\n",
    "   To prevent deadlocks, you can use techniques such as resource allocation graphs, timeouts, and avoiding circular dependencies. Properly managing the acquisition and release of resources and using tools like mutexes and semaphores can help mitigate the risk of deadlocks.\n",
    "\n",
    "2. **Race Condition**:\n",
    "\n",
    "   A race condition occurs when two or more threads access shared data simultaneously, and the final outcome depends on the specific order in which the threads are scheduled to run. In other words, the result is \"racing\" to see which thread updates the data first. Race conditions can lead to unexpected and erroneous behavior in a program.\n",
    "\n",
    "   Race conditions often happen due to a lack of proper synchronization mechanisms in multithreaded programs. For example, if two threads read and modify a shared variable without adequate synchronization (e.g., using locks or mutexes), it can result in unpredictable and incorrect outcomes.\n",
    "\n",
    "   To prevent race conditions, you should use synchronization primitives like locks, semaphores, and condition variables to ensure that only one thread can access shared resources at a time. This way, you can maintain data integrity and prevent concurrent access from causing issues.\n",
    "\n",
    "In summary, deadlocks and race conditions are both synchronization issues that can occur in multithreaded programs. Deadlocks involve threads being stuck waiting for each other to release resources, while race conditions result from concurrent access to shared data without proper synchronization. Careful design, programming, and the use of synchronization mechanisms can help prevent and resolve these issues in multithreaded applications."
   ]
  },
  {
   "cell_type": "code",
   "execution_count": null,
   "id": "b6aeefd9-b50a-4685-b9f0-be96ee7bec17",
   "metadata": {},
   "outputs": [],
   "source": []
  }
 ],
 "metadata": {
  "kernelspec": {
   "display_name": "Python 3 (ipykernel)",
   "language": "python",
   "name": "python3"
  },
  "language_info": {
   "codemirror_mode": {
    "name": "ipython",
    "version": 3
   },
   "file_extension": ".py",
   "mimetype": "text/x-python",
   "name": "python",
   "nbconvert_exporter": "python",
   "pygments_lexer": "ipython3",
   "version": "3.10.8"
  }
 },
 "nbformat": 4,
 "nbformat_minor": 5
}
