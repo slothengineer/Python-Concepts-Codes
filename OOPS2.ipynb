{
 "cells": [
  {
   "cell_type": "markdown",
   "id": "6196e625-7a4c-42f8-9599-45ac623afa03",
   "metadata": {},
   "source": [
    "# OOPs Task"
   ]
  },
  {
   "cell_type": "markdown",
   "id": "460b66d4-a5b9-4181-bc00-e1f6920fa577",
   "metadata": {},
   "source": [
    "### 1.  Create a vehicle class with an init method having instance variables as name_of_vehicle, max_speed and average_of_vehicle"
   ]
  },
  {
   "cell_type": "code",
   "execution_count": 1,
   "id": "cb040077-f510-4836-a18e-7f930b4556c5",
   "metadata": {},
   "outputs": [
    {
     "name": "stdout",
     "output_type": "stream",
     "text": [
      "Name of vehicle: Car\n",
      "Max speed: 200 km/h\n",
      "Average speed: 60 km/h\n"
     ]
    }
   ],
   "source": [
    "class Vehicle:\n",
    "    def __init__(self, name_of_vehicle, max_speed, average_speed):\n",
    "        self.name_of_vehicle = name_of_vehicle\n",
    "        self.max_speed = max_speed\n",
    "        self.average_speed = average_speed\n",
    "\n",
    "# Example of creating an instance of the Vehicle class\n",
    "car = Vehicle(name_of_vehicle=\"Car\", max_speed=200, average_speed=60)\n",
    "\n",
    "# Accessing instance variables\n",
    "print(f\"Name of vehicle: {car.name_of_vehicle}\")\n",
    "print(f\"Max speed: {car.max_speed} km/h\")\n",
    "print(f\"Average speed: {car.average_speed} km/h\")"
   ]
  },
  {
   "cell_type": "markdown",
   "id": "c6472749-3aef-4de3-b913-6bf1161b1afe",
   "metadata": {},
   "source": [
    "### 2.  Create a child class car from the vehicle class created in Que 1, which will inherit the vehicle class. Create a method named seating_capacity which takes capacity as an argument and returns the name of the vehicle and its seating capacity."
   ]
  },
  {
   "cell_type": "code",
   "execution_count": 2,
   "id": "129e4618-6fa5-4a6d-8877-64b909640c07",
   "metadata": {},
   "outputs": [
    {
     "name": "stdout",
     "output_type": "stream",
     "text": [
      "Name of vehicle: Sedan\n",
      "Max speed: 180 km/h\n",
      "Average speed: 50 km/h\n",
      "Sedan has a seating capacity of 5 passengers.\n"
     ]
    }
   ],
   "source": [
    "class Vehicle:\n",
    "    def __init__(self, name_of_vehicle, max_speed, average_speed):\n",
    "        self.name_of_vehicle = name_of_vehicle\n",
    "        self.max_speed = max_speed\n",
    "        self.average_speed = average_speed\n",
    "\n",
    "class Car(Vehicle):\n",
    "    def seating_capacity(self, capacity):\n",
    "        return f\"{self.name_of_vehicle} has a seating capacity of {capacity} passengers.\"\n",
    "\n",
    "# Example of creating an instance of the Car class\n",
    "car_instance = Car(name_of_vehicle=\"Sedan\", max_speed=180, average_speed=50)\n",
    "\n",
    "# Accessing instance variables from the parent class\n",
    "print(f\"Name of vehicle: {car_instance.name_of_vehicle}\")\n",
    "print(f\"Max speed: {car_instance.max_speed} km/h\")\n",
    "print(f\"Average speed: {car_instance.average_speed} km/h\")\n",
    "\n",
    "# Using the seating_capacity method from the child class\n",
    "capacity_result = car_instance.seating_capacity(5)\n",
    "print(capacity_result)"
   ]
  },
  {
   "cell_type": "markdown",
   "id": "a953bdc8-0a6c-465e-8ae3-41287a9ad85a",
   "metadata": {},
   "source": [
    "### 3. What is multiple inheritance? Write a python code to demonstrate multiple inheritance."
   ]
  },
  {
   "cell_type": "code",
   "execution_count": 3,
   "id": "fa9351f8-eb10-43e2-8044-f6dd6cc72c60",
   "metadata": {},
   "outputs": [
    {
     "name": "stdout",
     "output_type": "stream",
     "text": [
      "Engine started.\n",
      "Engine stopped.\n",
      "Electric motor charging.\n",
      "Electric motor discharging.\n",
      "Hybrid car is driving.\n"
     ]
    }
   ],
   "source": [
    "class Engine:\n",
    "    def start(self):\n",
    "        print(\"Engine started.\")\n",
    "\n",
    "    def stop(self):\n",
    "        print(\"Engine stopped.\")\n",
    "\n",
    "class ElectricMotor:\n",
    "    def charge(self):\n",
    "        print(\"Electric motor charging.\")\n",
    "\n",
    "    def discharge(self):\n",
    "        print(\"Electric motor discharging.\")\n",
    "\n",
    "class HybridCar(Engine, ElectricMotor):\n",
    "    def drive(self):\n",
    "        print(\"Hybrid car is driving.\")\n",
    "\n",
    "# Create an instance of the HybridCar class\n",
    "hybrid_car = HybridCar()\n",
    "\n",
    "# Access methods from the Engine class\n",
    "hybrid_car.start()\n",
    "hybrid_car.stop()\n",
    "\n",
    "# Access methods from the ElectricMotor class\n",
    "hybrid_car.charge()\n",
    "hybrid_car.discharge()\n",
    "\n",
    "# Access method from the HybridCar class\n",
    "hybrid_car.drive()"
   ]
  },
  {
   "cell_type": "markdown",
   "id": "77bbeff6-d0ea-461c-9d5b-0b5b64ceac3d",
   "metadata": {},
   "source": [
    "### 4. What are getter and setter in python? Create a class and create a getter and a setter method in this class. "
   ]
  },
  {
   "cell_type": "code",
   "execution_count": 4,
   "id": "3ef4a52d-85a9-4eb0-80f1-dc71b07eff1c",
   "metadata": {},
   "outputs": [
    {
     "name": "stdout",
     "output_type": "stream",
     "text": [
      "Make: Toyota\n",
      "Model: Camry\n",
      "Year: 2020\n",
      "Updated Make: Honda\n",
      "Updated Model: Accord\n",
      "Updated Year: 2022\n"
     ]
    }
   ],
   "source": [
    "class Car:\n",
    "    def __init__(self, make, model, year):\n",
    "        self._make = make  # Using a single underscore to indicate it's a protected attribute\n",
    "        self._model = model\n",
    "        self._year = year\n",
    "\n",
    "    # Getter method for the make attribute\n",
    "    def get_make(self):\n",
    "        return self._make\n",
    "\n",
    "    # Getter method for the model attribute\n",
    "    def get_model(self):\n",
    "        return self._model\n",
    "\n",
    "    # Getter method for the year attribute\n",
    "    def get_year(self):\n",
    "        return self._year\n",
    "\n",
    "    # Setter method for the make attribute\n",
    "    def set_make(self, make):\n",
    "        self._make = make\n",
    "\n",
    "    # Setter method for the model attribute\n",
    "    def set_model(self, model):\n",
    "        self._model = model\n",
    "\n",
    "    # Setter method for the year attribute\n",
    "    def set_year(self, year):\n",
    "        self._year = year\n",
    "\n",
    "# Example usage of the Car class with getter and setter methods\n",
    "my_car = Car(make=\"Toyota\", model=\"Camry\", year=2020)\n",
    "\n",
    "# Using getter methods to access the attributes\n",
    "print(f\"Make: {my_car.get_make()}\")\n",
    "print(f\"Model: {my_car.get_model()}\")\n",
    "print(f\"Year: {my_car.get_year()}\")\n",
    "\n",
    "# Using setter methods to modify the attributes\n",
    "my_car.set_make(\"Honda\")\n",
    "my_car.set_model(\"Accord\")\n",
    "my_car.set_year(2022)\n",
    "\n",
    "# Using getter methods again to confirm the changes\n",
    "print(f\"Updated Make: {my_car.get_make()}\")\n",
    "print(f\"Updated Model: {my_car.get_model()}\")\n",
    "print(f\"Updated Year: {my_car.get_year()}\")"
   ]
  },
  {
   "cell_type": "markdown",
   "id": "1c361c2b-21d5-4023-9333-46bbdf9c0f56",
   "metadata": {},
   "source": [
    "### 5. What is method overriding in python? Write a python code to demonstrate method overriding."
   ]
  },
  {
   "cell_type": "markdown",
   "id": "7ec8e2ea-4dc5-4c58-b725-fc430e064af7",
   "metadata": {},
   "source": [
    "Method overriding in Python occurs when a subclass provides a specific implementation for a method that is already defined in its superclass. This allows the subclass to provide its own version of the method, which overrides the implementation in the parent class. \n",
    "\n",
    "Example to demonstrate method overriding:"
   ]
  },
  {
   "cell_type": "code",
   "execution_count": 5,
   "id": "62e908d2-a4dd-4ba3-b4dd-c24f710fbb4b",
   "metadata": {},
   "outputs": [
    {
     "name": "stdout",
     "output_type": "stream",
     "text": [
      "Generic animal sound\n",
      "Woof! Woof!\n",
      "Meow\n",
      "Generic animal sound\n"
     ]
    }
   ],
   "source": [
    "class Animal:\n",
    "    def speak(self):\n",
    "        print(\"Generic animal sound\")\n",
    "\n",
    "class Dog(Animal):\n",
    "    def speak(self):\n",
    "        print(\"Woof! Woof!\")\n",
    "\n",
    "class Cat(Animal):\n",
    "    def speak(self):\n",
    "        print(\"Meow\")\n",
    "\n",
    "class Bird(Animal):\n",
    "    # This class does not override the speak method, so it inherits the generic implementation from the Animal class.\n",
    "    pass\n",
    "\n",
    "# Instantiate objects of different classes and demonstrate method overriding\n",
    "animal = Animal()\n",
    "dog = Dog()\n",
    "cat = Cat()\n",
    "bird = Bird()\n",
    "\n",
    "# Calls to the speak method for each object\n",
    "animal.speak()  \n",
    "dog.speak()     \n",
    "cat.speak()     \n",
    "bird.speak()    "
   ]
  },
  {
   "cell_type": "code",
   "execution_count": null,
   "id": "75bcdc00-b4dd-478b-8c41-ac102b26e0ff",
   "metadata": {},
   "outputs": [],
   "source": []
  }
 ],
 "metadata": {
  "kernelspec": {
   "display_name": "Python 3 (ipykernel)",
   "language": "python",
   "name": "python3"
  },
  "language_info": {
   "codemirror_mode": {
    "name": "ipython",
    "version": 3
   },
   "file_extension": ".py",
   "mimetype": "text/x-python",
   "name": "python",
   "nbconvert_exporter": "python",
   "pygments_lexer": "ipython3",
   "version": "3.10.8"
  }
 },
 "nbformat": 4,
 "nbformat_minor": 5
}
