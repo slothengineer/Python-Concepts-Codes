{
 "cells": [
  {
   "cell_type": "markdown",
   "id": "7561316a-97da-49f8-9e1c-c1adc7f704cb",
   "metadata": {},
   "source": [
    "### 1. You are writing code for a company. The requirement of the company is that you create a python function that will check whether the password entered by the user is correct or not. The function should take the password as input and return the string “Valid Password” if the entered password follows the below-given password guidelines else it should return “Invalid Password”.\n",
    "\n",
    "\n",
    "Note: \n",
    "1. The Password should contain at least two uppercase letters and at least two lowercase letters.\n",
    "\n",
    "2. The Password should contain at least a number and three special characters.\n",
    "\n",
    "3. The length of the password should be 10 characters long."
   ]
  },
  {
   "cell_type": "code",
   "execution_count": 10,
   "id": "e2587d93-13ff-449f-a0ac-e7ea59a7de19",
   "metadata": {},
   "outputs": [
    {
     "name": "stdout",
     "output_type": "stream",
     "text": [
      "Valid Password\n",
      "Invalid Password: At least three special characters are required.\n"
     ]
    }
   ],
   "source": [
    "import re\n",
    "\n",
    "def check_password(password):\n",
    "    # atleast two uppercase letters\n",
    "    if not (sum(1 for char in password if char.isupper()) >= 2):\n",
    "        return \"Invalid Password: At least two uppercase letters are required.\"\n",
    "\n",
    "    # atleast two lowercase letters\n",
    "    if not (sum(1 for char in password if char.islower()) >= 2):\n",
    "        return \"Invalid Password: At least two lowercase letters are required.\"\n",
    "\n",
    "    # atleast one digit\n",
    "    if not any(char.isdigit() for char in password):\n",
    "        return \"Invalid Password: At least one digit is required.\"\n",
    "\n",
    "    # Check for at least three special characters\n",
    "    special_characters = re.compile('[@_!#$%^&*()<>?/\\|}{~:]')\n",
    "    if not (sum(1 for char in password if special_characters.search(char)) >= 3):\n",
    "        return \"Invalid Password: At least three special characters are required.\"\n",
    "\n",
    "    # length of the password\n",
    "    if len(password) != 10:\n",
    "        return \"Invalid Password: Password should be 10 characters long.\"\n",
    "\n",
    "    # all conditions are met, the password is valid\n",
    "    return \"Valid Password\"\n",
    "\n",
    "#usage:\n",
    "password1 = \"ANbc@1&@56\"\n",
    "password2 = \"ShortPwd1#\"\n",
    "\n",
    "print(check_password(password1)) \n",
    "print(check_password(password2))  "
   ]
  },
  {
   "cell_type": "markdown",
   "id": "6e26ba5b-2fdc-4245-8f77-9a72696c69ce",
   "metadata": {},
   "source": [
    "### 2.  Solve the below-given questions using at least one of the following: \n",
    "\n",
    "1. Lambda function\n",
    "2. Filter function\n",
    "3. Map function\n",
    "4. List Comprehension\n",
    "- Check if the string starts with a particular letter.\n",
    "- Check if the string is numeric.\n",
    "- Sort a list of tuples having fruit names and their quantity. [(\"mango\",99), (\"orange\",80), (\"grapes\", 1000)]\n",
    "- Find the squares of numbers from 1 to 10.\n",
    "- Find the cube root of numbers from 1 to 10.\n",
    "- Check if a given number is even.\n",
    "- Filter odd numbers from the given list- [1, 2, 3, 4, 5, 6, 7, 8, 9, 10]\n",
    "  \n",
    "- Sort a list of integers into positive and negative integers lists- [1, 2, 3, 4, 5, 6, -1, -2, -3, -4, -5, 0]"
   ]
  },
  {
   "cell_type": "code",
   "execution_count": 12,
   "id": "2fa24f22-5e45-4d4a-923e-d1ca05de79b8",
   "metadata": {},
   "outputs": [
    {
     "name": "stdout",
     "output_type": "stream",
     "text": [
      "True\n",
      "False\n"
     ]
    }
   ],
   "source": [
    "check_starting_letter = lambda string, letter: string.startswith(letter)\n",
    "\n",
    "string1 = \"Python\"\n",
    "print(check_starting_letter(string1, \"P\"))  \n",
    "print(check_starting_letter(string1, \"A\"))  "
   ]
  },
  {
   "cell_type": "code",
   "execution_count": 13,
   "id": "50035ac9-617d-4c78-9aac-1517a2921151",
   "metadata": {},
   "outputs": [
    {
     "name": "stdout",
     "output_type": "stream",
     "text": [
      "True\n",
      "False\n"
     ]
    }
   ],
   "source": [
    "check_numeric = lambda string: string.isnumeric()\n",
    "\n",
    "string2 = \"123\"\n",
    "print(check_numeric(string2))  \n",
    "string3 = \"abc\"\n",
    "print(check_numeric(string3))  "
   ]
  },
  {
   "cell_type": "code",
   "execution_count": 14,
   "id": "23f9d79e-aa20-41e2-bbb5-38da7afdc510",
   "metadata": {},
   "outputs": [
    {
     "name": "stdout",
     "output_type": "stream",
     "text": [
      "[('orange', 80), ('mango', 99), ('grapes', 1000)]\n"
     ]
    }
   ],
   "source": [
    "fruits_quantity = [(\"mango\", 99), (\"orange\", 80), (\"grapes\", 1000)]\n",
    "sorted_fruits_quantity = sorted(fruits_quantity, key=lambda x: x[1])\n",
    "\n",
    "print(sorted_fruits_quantity)"
   ]
  },
  {
   "cell_type": "code",
   "execution_count": 15,
   "id": "bec7f1c8-e1d2-4657-9dd4-9914f8947c49",
   "metadata": {},
   "outputs": [
    {
     "name": "stdout",
     "output_type": "stream",
     "text": [
      "[1, 4, 9, 16, 25, 36, 49, 64, 81, 100]\n"
     ]
    }
   ],
   "source": [
    "squares = [x**2 for x in range(1, 11)]\n",
    "print(squares)"
   ]
  },
  {
   "cell_type": "code",
   "execution_count": 16,
   "id": "f859f3fe-3940-42c7-b814-f5b3b7d7c8b3",
   "metadata": {},
   "outputs": [
    {
     "name": "stdout",
     "output_type": "stream",
     "text": [
      "[1.0, 1.26, 1.44, 1.59, 1.71, 1.82, 1.91, 2.0, 2.08, 2.15]\n"
     ]
    }
   ],
   "source": [
    "import math\n",
    "\n",
    "cube_roots = [round(math.pow(x, 1/3), 2) for x in range(1, 11)]\n",
    "print(cube_roots)"
   ]
  },
  {
   "cell_type": "code",
   "execution_count": 18,
   "id": "14fa8ccc-48b8-4f2e-82e1-d9d667cb09ba",
   "metadata": {},
   "outputs": [
    {
     "name": "stdout",
     "output_type": "stream",
     "text": [
      "True\n",
      "False\n"
     ]
    }
   ],
   "source": [
    "check_even = lambda number: number % 2 == 0\n",
    "\n",
    "number1 = 10\n",
    "print(check_even(number1))  \n",
    "number2 = 15\n",
    "print(check_even(number2))"
   ]
  },
  {
   "cell_type": "code",
   "execution_count": 19,
   "id": "2e366506-e737-4571-b385-10eff8b63a51",
   "metadata": {},
   "outputs": [
    {
     "name": "stdout",
     "output_type": "stream",
     "text": [
      "[1, 3, 5, 7, 9]\n"
     ]
    }
   ],
   "source": [
    "numbers_list = [1, 2, 3, 4, 5, 6, 7, 8, 9, 10]\n",
    "odd_numbers = list(filter(lambda x: x % 2 != 0, numbers_list))\n",
    "print(odd_numbers)"
   ]
  },
  {
   "cell_type": "code",
   "execution_count": 21,
   "id": "dbf0553a-f7d5-45b7-bd89-069531697bcf",
   "metadata": {},
   "outputs": [
    {
     "name": "stdout",
     "output_type": "stream",
     "text": [
      "Positive Integers: [1, 2, 3, 4, 5, 6]\n",
      "Negative Integers: [-5, -4, -3, -2, -1]\n"
     ]
    }
   ],
   "source": [
    "integers_list = [1, 2, 3, 4, 5, 6, -1, -2, -3, -4, -5, 0]\n",
    "\n",
    "positive_integers = sorted(filter(lambda x: x > 0, integers_list))\n",
    "negative_integers = sorted(filter(lambda x: x < 0, integers_list))\n",
    "\n",
    "print(\"Positive Integers:\", positive_integers)\n",
    "print(\"Negative Integers:\", negative_integers)"
   ]
  },
  {
   "cell_type": "code",
   "execution_count": null,
   "id": "f8f64fcd-6e33-4af1-9fc6-626a4dbfa539",
   "metadata": {},
   "outputs": [],
   "source": []
  }
 ],
 "metadata": {
  "kernelspec": {
   "display_name": "Python 3 (ipykernel)",
   "language": "python",
   "name": "python3"
  },
  "language_info": {
   "codemirror_mode": {
    "name": "ipython",
    "version": 3
   },
   "file_extension": ".py",
   "mimetype": "text/x-python",
   "name": "python",
   "nbconvert_exporter": "python",
   "pygments_lexer": "ipython3",
   "version": "3.10.8"
  }
 },
 "nbformat": 4,
 "nbformat_minor": 5
}
