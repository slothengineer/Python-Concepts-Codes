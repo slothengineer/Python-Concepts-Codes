{
 "cells": [
  {
   "cell_type": "markdown",
   "id": "b65d34c3-898a-4731-a54f-1c88452bdd55",
   "metadata": {},
   "source": [
    "# Exception Handling "
   ]
  },
  {
   "cell_type": "markdown",
   "id": "ee2fca4e-9b0f-4ed5-ade1-866210412e83",
   "metadata": {},
   "source": [
    "### 1. What is an Exception in python? Write the difference between Exceptions and syntax errors ?"
   ]
  },
  {
   "cell_type": "markdown",
   "id": "1355ae07-83b9-4201-bed3-8709b662e862",
   "metadata": {},
   "source": [
    "An exception in Python is an event that occurs during the execution of a program, which disrupts the normal flow of the program. When an exceptional event occurs, an exception object is created to represent the error, and the program's control is transferred to an appropriate exception-handling code block.\n",
    "\n",
    "Exceptions can be raised for various reasons, including:\n",
    "\n",
    "1. **Runtime Errors:** These are errors that occur while the program is running, such as division by zero, attempting to access an index that is out of bounds, or trying to open a file that doesn't exist.\n",
    "\n",
    "2. **Logical Errors:** These are errors in the program's logic, and they may not always result in exceptions. Instead, they can lead to incorrect or unexpected results in the program's output. These are not exceptions in the technical sense.\n",
    "\n",
    "Now, let's discuss the difference between exceptions and syntax errors:\n",
    "\n",
    "**Exceptions:**\n",
    "- Exceptions occur during the execution of a program.\n",
    "- They are runtime errors that disrupt the normal flow of the program.\n",
    "- They are handled using `try...except` blocks to gracefully recover from errors or report them.\n",
    "- Examples of exceptions include `ZeroDivisionError`, `FileNotFoundError`, `IndexError`, etc.\n",
    "\n",
    "**Syntax Errors:**\n",
    "- Syntax errors occur before the program is executed.\n",
    "- They are errors in the program's code structure or syntax.\n",
    "- These errors prevent the program from running at all and must be fixed in the code.\n",
    "- Examples of syntax errors include missing colons, invalid indentation, misspelled variable names, and incorrect keyword usage.\n",
    "\n",
    "Here's an example of a syntax error and an exception in Python:\n",
    "\n",
    "**Syntax Error Example:**\n",
    "```python\n",
    "# This code contains a syntax error\n",
    "print(\"Hello, world\"\n",
    "```\n",
    "\n",
    "In this example, a missing closing parenthesis at the end of the `print` statement results in a syntax error, preventing the program from running.\n",
    "\n",
    "**Exception Example:**\n",
    "```python\n",
    "# This code generates a runtime exception\n",
    "x = 5 / 0\n",
    "```\n",
    "\n",
    "In this example, attempting to divide by zero results in a `ZeroDivisionError` exception. The program can still run, but it will terminate if the exception is not handled.\n",
    "\n",
    "In summary, exceptions are runtime errors that can be handled, while syntax errors are code-level errors that prevent the program from running and must be corrected in the code before execution."
   ]
  },
  {
   "cell_type": "markdown",
   "id": "f3af7902-be1e-4eac-938e-a1fc33031bfc",
   "metadata": {},
   "source": [
    "### 2. What happens when an exception is not handled? Explain with an example?"
   ]
  },
  {
   "cell_type": "markdown",
   "id": "6727ae41-4d7d-4770-8aa3-c668fd34d714",
   "metadata": {},
   "source": [
    "When an exception is not handled in a program, it leads to an unhandled exception, which typically causes the program to terminate abruptly. The error message and a traceback of the exception are usually displayed, providing information about the error that occurred. In many cases, an unhandled exception can be a significant problem, as it can result in data loss, a crash of the program, or an undesirable user experience.\n",
    "\n",
    "Here's an example to illustrate what happens when an exception is not handled:"
   ]
  },
  {
   "cell_type": "code",
   "execution_count": 1,
   "id": "ac6fd6dc-ecb8-400c-bad6-431a48192144",
   "metadata": {},
   "outputs": [
    {
     "name": "stdout",
     "output_type": "stream",
     "text": [
      "An error occurred: [Errno 2] No such file or directory: 'non_existent_file.txt'\n"
     ]
    },
    {
     "ename": "NameError",
     "evalue": "name 'variable_that_does_not_exist' is not defined",
     "output_type": "error",
     "traceback": [
      "\u001b[0;31m---------------------------------------------------------------------------\u001b[0m",
      "\u001b[0;31mNameError\u001b[0m                                 Traceback (most recent call last)",
      "Cell \u001b[0;32mIn[1], line 9\u001b[0m\n\u001b[1;32m      6\u001b[0m     \u001b[38;5;28mprint\u001b[39m(\u001b[38;5;124mf\u001b[39m\u001b[38;5;124m\"\u001b[39m\u001b[38;5;124mAn error occurred: \u001b[39m\u001b[38;5;132;01m{\u001b[39;00me\u001b[38;5;132;01m}\u001b[39;00m\u001b[38;5;124m\"\u001b[39m)\n\u001b[1;32m      8\u001b[0m \u001b[38;5;66;03m# Attempt to print a variable that doesn't exist, resulting in a NameError\u001b[39;00m\n\u001b[0;32m----> 9\u001b[0m \u001b[38;5;28mprint\u001b[39m(\u001b[43mvariable_that_does_not_exist\u001b[49m)\n\u001b[1;32m     11\u001b[0m \u001b[38;5;66;03m# The program continues with this code\u001b[39;00m\n\u001b[1;32m     12\u001b[0m \u001b[38;5;28mprint\u001b[39m(\u001b[38;5;124m\"\u001b[39m\u001b[38;5;124mThis code is still executed.\u001b[39m\u001b[38;5;124m\"\u001b[39m)\n",
      "\u001b[0;31mNameError\u001b[0m: name 'variable_that_does_not_exist' is not defined"
     ]
    }
   ],
   "source": [
    "# This code attempts to open a non-existent file, which raises a FileNotFoundError\n",
    "try:\n",
    "    with open(\"non_existent_file.txt\", \"r\") as file:\n",
    "        content = file.read()\n",
    "except FileNotFoundError as e:\n",
    "    print(f\"An error occurred: {e}\")\n",
    "\n",
    "# Attempt to print a variable that doesn't exist, resulting in a NameError\n",
    "print(variable_that_does_not_exist)\n",
    "\n",
    "# The program continues with this code\n",
    "print(\"This code is still executed.\")"
   ]
  },
  {
   "cell_type": "markdown",
   "id": "555faa7a-0d53-48a3-87f6-7f811518760e",
   "metadata": {},
   "source": [
    "In this example:\n",
    "\n",
    "1. The program attempts to open a file (\"non_existent_file.txt\") for reading. Since the file does not exist, a `FileNotFoundError` exception is raised. This exception is caught in a `try...except` block, and an error message is printed.\n",
    "\n",
    "2. After the `try...except` block, there is an attempt to print a variable (`variable_that_does_not_exist`) that has not been defined. This results in a `NameError`.\n",
    "\n",
    "3. The program terminates abruptly after the `NameError` because this exception is not caught and handled. The code following the unhandled exception is not executed.\n",
    "\n",
    "When an exception is not handled, it can leave your program in an unpredictable state, and it may not complete all the necessary cleanup or data-saving operations. Therefore, it's essential to handle exceptions appropriately in your code to provide a graceful way to deal with errors, log the issue, and prevent abrupt program termination."
   ]
  },
  {
   "cell_type": "markdown",
   "id": "4003eddd-0f58-4076-bebd-c31dbf49cc43",
   "metadata": {},
   "source": [
    "### 3. Which Python statements are used to catch and handle exceptions? Explain with an example."
   ]
  },
  {
   "cell_type": "markdown",
   "id": "6188aa47-3985-490b-a8c3-4fda5fd720e4",
   "metadata": {},
   "source": [
    "In Python, exceptions are caught and handled using `try...except` statements. The `try` block is used to enclose the code that may raise an exception, and the `except` block is used to specify how to handle the exception if it occurs. Here's the basic structure of a `try...except` statement:\n",
    "\n",
    "```python\n",
    "try:\n",
    "    # Code that may raise an exception\n",
    "except ExceptionType as e:\n",
    "    # Handle the exception\n",
    "```\n",
    "\n",
    "- `try`: The code within the `try` block is executed. If an exception occurs within this block, the code following the `try` block is skipped, and the program moves to the corresponding `except` block.\n",
    "\n",
    "- `except`: If an exception of the specified type occurs, the code in the `except` block is executed. The `ExceptionType` is the type of exception you want to catch, and `e` is an optional variable that can be used to reference the exception object.\n",
    "\n",
    "Here's an example of how to use `try...except` to catch and handle an exception:"
   ]
  },
  {
   "cell_type": "code",
   "execution_count": 3,
   "id": "57728d8c-f5e9-4069-8af4-9c2b9d727153",
   "metadata": {},
   "outputs": [
    {
     "name": "stdin",
     "output_type": "stream",
     "text": [
      "Enter a number:  56\n"
     ]
    },
    {
     "name": "stdout",
     "output_type": "stream",
     "text": [
      "Result: 0.17857142857142858\n"
     ]
    }
   ],
   "source": [
    "try:\n",
    "    x = int(input(\"Enter a number: \"))\n",
    "    result = 10 / x\n",
    "except ZeroDivisionError as e:\n",
    "    print(f\"Error: {e}\")\n",
    "    print(\"You cannot divide by zero.\")\n",
    "except ValueError as e:\n",
    "    print(f\"Error: {e}\")\n",
    "    print(\"Please enter a valid number.\")\n",
    "else:\n",
    "    print(f\"Result: {result}\")"
   ]
  },
  {
   "cell_type": "code",
   "execution_count": 4,
   "id": "5363a470-da58-4bab-ba74-41f45c274f08",
   "metadata": {},
   "outputs": [
    {
     "name": "stdin",
     "output_type": "stream",
     "text": [
      "Enter a number:  0\n"
     ]
    },
    {
     "name": "stdout",
     "output_type": "stream",
     "text": [
      "Error: division by zero\n",
      "You cannot divide by zero.\n"
     ]
    }
   ],
   "source": [
    "try:\n",
    "    x = int(input(\"Enter a number: \"))\n",
    "    result = 10 / x\n",
    "except ZeroDivisionError as e:\n",
    "    print(f\"Error: {e}\")\n",
    "    print(\"You cannot divide by zero.\")\n",
    "except ValueError as e:\n",
    "    print(f\"Error: {e}\")\n",
    "    print(\"Please enter a valid number.\")\n",
    "else:\n",
    "    print(f\"Result: {result}\")"
   ]
  },
  {
   "cell_type": "markdown",
   "id": "fa61ad1b-d47b-4c6d-b234-a26efc7f2a20",
   "metadata": {},
   "source": [
    "In this example:\n",
    "\n",
    "1. The `try` block attempts to convert user input to an integer and then perform a division operation. If the user enters a non-integer value or tries to divide by zero, an exception will be raised.\n",
    "\n",
    "2. Two `except` blocks follow the `try` block. The first `except` block catches a `ZeroDivisionError` if the user attempts to divide by zero, and the second `except` block catches a `ValueError` if the user enters a non-integer value.\n",
    "\n",
    "3. If an exception is raised, the appropriate `except` block is executed, displaying an error message.\n",
    "\n",
    "4. If no exception occurs, the `else` block is executed, which prints the result of the division.\n",
    "\n",
    "Using `try...except` statements allows you to gracefully handle exceptions and provide informative error messages to users, rather than allowing your program to terminate abruptly. You can catch and handle different types of exceptions, depending on your specific error-handling needs."
   ]
  },
  {
   "cell_type": "markdown",
   "id": "6f6aa919-4423-489b-9a94-099f034558f6",
   "metadata": {},
   "source": [
    "### 4. Explain with an example:\n",
    "#### a. try and else\n",
    "#### b. finally\n",
    "#### c. raise"
   ]
  },
  {
   "cell_type": "markdown",
   "id": "c6c188e9-508a-4598-bc4c-7184c9ded7fe",
   "metadata": {},
   "source": [
    "a. **`try` and `else`**:\n",
    "\n",
    "   The `try` block is used to enclose code that may raise an exception, and the `else` block is executed if no exceptions occur in the `try` block. This is useful for performing actions when no exceptions have been raised.\n",
    "\n",
    "   Example with `try` and `else`:"
   ]
  },
  {
   "cell_type": "code",
   "execution_count": 1,
   "id": "0ceab7c5-98b1-4d9a-b757-02240e1f24c6",
   "metadata": {},
   "outputs": [
    {
     "name": "stdin",
     "output_type": "stream",
     "text": [
      "Enter a number:  2\n"
     ]
    },
    {
     "name": "stdout",
     "output_type": "stream",
     "text": [
      "Result: 5.0\n"
     ]
    }
   ],
   "source": [
    "try:\n",
    "    x = int(input(\"Enter a number: \"))\n",
    "    result = 10 / x\n",
    "except ZeroDivisionError as e:\n",
    "    print(f\"Error: {e}\")\n",
    "    print(\"You cannot divide by zero.\")\n",
    "except ValueError as e:\n",
    "    print(f\"Error: {e}\")\n",
    "    print(\"Please enter a valid number.\")\n",
    "else:\n",
    "    print(f\"Result: {result}\")"
   ]
  },
  {
   "cell_type": "markdown",
   "id": "af74c170-75fb-489f-9a8b-38d06afc9c49",
   "metadata": {},
   "source": [
    "In this example, the `else` block is executed when no exceptions are raised, and it prints the result of the division."
   ]
  },
  {
   "cell_type": "markdown",
   "id": "5a7f4c4d-5de8-48c0-97f3-6bf01e5b0a14",
   "metadata": {},
   "source": [
    "b. **`finally`**:\n",
    "\n",
    "   The `finally` block is used to enclose code that must be executed whether or not an exception occurs. It is often used for cleanup operations, such as closing files or releasing resources.\n",
    "\n",
    "   Example with `finally`:"
   ]
  },
  {
   "cell_type": "code",
   "execution_count": 5,
   "id": "9216a67f-1df6-4630-8a93-8ad923a8483e",
   "metadata": {},
   "outputs": [
    {
     "name": "stdout",
     "output_type": "stream",
     "text": [
      "Error: [Errno 2] No such file or directory: 'example.txt'\n",
      "The file does not exist.\n"
     ]
    }
   ],
   "source": [
    "try:\n",
    "    file = open(\"example.txt\", \"r\")\n",
    "    content = file.read()\n",
    "except FileNotFoundError as e:\n",
    "    print(f\"Error: {e}\")\n",
    "    print(\"The file does not exist.\")\n",
    "finally:\n",
    "    if 'file' in locals():\n",
    "        file.close()"
   ]
  },
  {
   "cell_type": "markdown",
   "id": "1638ef27-ed42-4905-a35f-5c50d92417e8",
   "metadata": {},
   "source": [
    "In this example, the `finally` block ensures that the file is closed even if an exception occurs or not. It checks whether the `file` variable exists in the local scope before attempting to close it to avoid a `NameError`."
   ]
  },
  {
   "cell_type": "markdown",
   "id": "0e87ddba-4a08-41b0-a7dc-d76cc2696d5f",
   "metadata": {},
   "source": [
    "c. **`raise`**:\n",
    "\n",
    "   The `raise` statement is used to raise a specific exception manually. It allows you to control when and which exceptions are raised in your code.\n",
    "\n",
    "   Example with `raise`:"
   ]
  },
  {
   "cell_type": "code",
   "execution_count": 5,
   "id": "0dea252e-6d88-4cb8-95a7-23bb7459f7d9",
   "metadata": {},
   "outputs": [
    {
     "name": "stdout",
     "output_type": "stream",
     "text": [
      "Result: 5.0\n"
     ]
    }
   ],
   "source": [
    "def divide(x, y):\n",
    "    if y == 0:\n",
    "        raise ZeroDivisionError(\"Division by zero is not allowed.\")\n",
    "    return x / y\n",
    "\n",
    "try:\n",
    "    result = divide(10, 2)\n",
    "    print(f\"Result: {result}\")\n",
    "except ZeroDivisionError as e:\n",
    "    print(f\"Error: {e}\")"
   ]
  },
  {
   "cell_type": "markdown",
   "id": "b99c5556-8464-4948-827a-5ce158ba540c",
   "metadata": {},
   "source": [
    "In this example, the `raise` statement is used within the `divide` function to raise a `ZeroDivisionError` if the denominator is zero. This allows you to control the error condition in your code and provide a custom error message. The exception is then caught and handled in the `try...except` block."
   ]
  },
  {
   "cell_type": "markdown",
   "id": "fd9b98c5-fcb2-4fe9-9c5b-c7b19bed5e31",
   "metadata": {},
   "source": [
    "### 5. What are Custom Exceptions in python? Why do we need Custom Exceptions? Explain with an example."
   ]
  },
  {
   "cell_type": "markdown",
   "id": "14147a96-bd9d-425b-bf52-6c9ea076d0fb",
   "metadata": {},
   "source": [
    "In Python, custom exceptions, also known as user-defined exceptions, allow you to create your own exception classes to handle specific error conditions that are not adequately covered by built-in exceptions. Custom exceptions are useful when you want to provide more context or specific information about an error and to make your code more readable and maintainable. They allow you to add custom error messages and attributes to exceptions and can be caught and handled like any other exception in your code.\n",
    "\n",
    "Here's why you might need custom exceptions:\n",
    "\n",
    "1. **Clarify Error Handling**: Custom exceptions make your code more self-explanatory by providing meaningful error messages and specific error types. This can help you and others understand what went wrong and why.\n",
    "\n",
    "2. **Modularity**: You can create custom exceptions for different parts of your code, making it easier to handle and troubleshoot errors in specific modules or components.\n",
    "\n",
    "3. **Hierarchy**: You can create a hierarchy of custom exceptions, with a base custom exception class and derived classes for specific error conditions. This allows you to catch exceptions at different levels and handle them accordingly.\n",
    "\n",
    "Here's an example of defining and using a custom exception in Python:"
   ]
  },
  {
   "cell_type": "code",
   "execution_count": 6,
   "id": "b12625fc-55ad-4acb-9e35-419e66749150",
   "metadata": {},
   "outputs": [
    {
     "name": "stdout",
     "output_type": "stream",
     "text": [
      "Error: Insufficient balance to make the transaction\n"
     ]
    }
   ],
   "source": [
    "class NotEnoughBalanceError(Exception):\n",
    "    \"\"\"Custom exception for insufficient balance in an account.\"\"\"\n",
    "\n",
    "    def __init__(self, balance, amount, message=\"Insufficient balance to make the transaction\"):\n",
    "        self.balance = balance\n",
    "        self.amount = amount\n",
    "        self.message = message\n",
    "        super().__init__(self.message)\n",
    "\n",
    "def make_transaction(balance, amount):\n",
    "    if amount > balance:\n",
    "        raise NotEnoughBalanceError(balance, amount)\n",
    "    else:\n",
    "        new_balance = balance - amount\n",
    "        return new_balance\n",
    "\n",
    "try:\n",
    "    current_balance = 100\n",
    "    withdrawal_amount = 150\n",
    "    new_balance = make_transaction(current_balance, withdrawal_amount)\n",
    "except NotEnoughBalanceError as e:\n",
    "    print(f\"Error: {e}\")\n",
    "else:\n",
    "    print(f\"Transaction successful. New balance: {new_balance}\")"
   ]
  },
  {
   "cell_type": "markdown",
   "id": "f1f45f24-b8df-4892-a6eb-84417c7accee",
   "metadata": {},
   "source": [
    "In this example, we define a custom exception class `NotEnoughBalanceError`. When the `make_transaction` function is called, it raises this custom exception if the withdrawal amount exceeds the account balance. This allows us to catch and handle this specific error condition with a custom error message and access to relevant attributes like the current balance and withdrawal amount. If the withdrawal is successful, we print the new balance, and if there's an error, we print the custom error message."
   ]
  },
  {
   "cell_type": "markdown",
   "id": "b555e72f-6b65-4f29-aca7-eb7ad12116aa",
   "metadata": {},
   "source": [
    "### 6. Create custom exception class. Use this class to handle an exception."
   ]
  },
  {
   "cell_type": "code",
   "execution_count": 7,
   "id": "6c9a1d47-a1f4-48f7-ae6b-7a27b380a6d4",
   "metadata": {},
   "outputs": [
    {
     "name": "stdout",
     "output_type": "stream",
     "text": [
      "Custom Exception caught: Division by zero is not allowed.\n"
     ]
    }
   ],
   "source": [
    "class MyCustomException(Exception):\n",
    "    def __init__(self, message=\"This is a custom exception.\"):\n",
    "        self.message = message\n",
    "        super().__init__(self.message)\n",
    "\n",
    "def divide(x, y):\n",
    "    if y == 0:\n",
    "        raise MyCustomException(\"Division by zero is not allowed.\")\n",
    "    else:\n",
    "        return x / y\n",
    "\n",
    "try:\n",
    "    result = divide(10, 0)\n",
    "    print(f\"Result: {result}\")\n",
    "except MyCustomException as e:\n",
    "    print(f\"Custom Exception caught: {e}\")\n",
    "else:\n",
    "    print(f\"Division successful. Result: {result}\")"
   ]
  },
  {
   "cell_type": "markdown",
   "id": "6d71ffe7-3270-4fc5-895d-c02a1d8309ba",
   "metadata": {},
   "source": [
    "In this code, we've defined a custom exception class MyCustomException. When you call the divide function and attempt to divide by zero, it raises the custom exception with the message \"Division by zero is not allowed.\" In the try block, we catch the custom exception using except MyCustomException as e, and if the exception is raised, we print a custom error message. If no exception is raised, we print the result of the division.\n",
    "\n",
    "This demonstrates how you can create your own custom exception classes to handle specific error conditions and provide more informative error messages when necessary"
   ]
  },
  {
   "cell_type": "code",
   "execution_count": null,
   "id": "237c7d68-a1a6-483f-a380-0ffcec913e8b",
   "metadata": {},
   "outputs": [],
   "source": []
  }
 ],
 "metadata": {
  "kernelspec": {
   "display_name": "Python 3 (ipykernel)",
   "language": "python",
   "name": "python3"
  },
  "language_info": {
   "codemirror_mode": {
    "name": "ipython",
    "version": 3
   },
   "file_extension": ".py",
   "mimetype": "text/x-python",
   "name": "python",
   "nbconvert_exporter": "python",
   "pygments_lexer": "ipython3",
   "version": "3.10.8"
  }
 },
 "nbformat": 4,
 "nbformat_minor": 5
}
