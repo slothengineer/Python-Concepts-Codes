{
 "cells": [
  {
   "cell_type": "markdown",
   "id": "1cbff6b0-b7fe-44f6-bed4-b1f38edb1fc0",
   "metadata": {},
   "source": [
    "### 1. Which keyword is used to create a function? Create a function to return a list of odd numbers in the range of 1 to 25."
   ]
  },
  {
   "cell_type": "markdown",
   "id": "7832ef57-1ddb-45ac-8724-fa69c48bb92c",
   "metadata": {},
   "source": [
    "The keyword used to create a function in Python is def. You define a function using the def keyword, followed by the function name, parentheses for parameters (if any), a colon, and then the function's code block."
   ]
  },
  {
   "cell_type": "code",
   "execution_count": 2,
   "id": "bf69c3f9-4220-440c-a91a-efbe9d551a41",
   "metadata": {},
   "outputs": [
    {
     "name": "stdout",
     "output_type": "stream",
     "text": [
      "[1, 3, 5, 7, 9, 11, 13, 15, 17, 19, 21, 23, 25]\n"
     ]
    }
   ],
   "source": [
    "def find_odd_numbers():\n",
    "    odd_numbers = []\n",
    "    for number in range(1, 26):\n",
    "        if number % 2 != 0:\n",
    "            odd_numbers.append(number)\n",
    "    return odd_numbers\n",
    "\n",
    "# Call the function\n",
    "result = find_odd_numbers()\n",
    "\n",
    "print(result)"
   ]
  },
  {
   "cell_type": "markdown",
   "id": "5ef84f8b-0b89-4459-a95b-5c8afb8838f7",
   "metadata": {},
   "source": [
    "### 2. Why *args and **kwargs is used in some functions? Create a function each for *args and **kwargs to demonstrate their use."
   ]
  },
  {
   "cell_type": "markdown",
   "id": "ddd2d545-508b-41ae-a71f-88ac06e97460",
   "metadata": {},
   "source": [
    "In Python, `*args` and `**kwargs` are used in function definitions to allow a function to accept a variable number of positional arguments and keyword arguments, respectively. These constructs make functions more flexible and versatile.\n",
    "\n",
    "1. `*args` (Arbitrary Positional Arguments):\n",
    "   - `*args` is used to pass a variable number of non-keyword (positional) arguments to a function.\n",
    "   - It allows you to pass any number of arguments to the function, and they are collected into a tuple within the function.\n",
    "   - You can use `*args` when you are uncertain about the number of arguments that will be passed."
   ]
  },
  {
   "cell_type": "code",
   "execution_count": 3,
   "id": "2896d50b-8237-41bb-a536-425635352019",
   "metadata": {},
   "outputs": [
    {
     "name": "stdout",
     "output_type": "stream",
     "text": [
      "15\n"
     ]
    }
   ],
   "source": [
    "def sum_numbers(*args):\n",
    "    total = 0\n",
    "    for num in args:\n",
    "        total += num\n",
    "    return total\n",
    "\n",
    "result = sum_numbers(1, 2, 3, 4, 5)\n",
    "print(result)"
   ]
  },
  {
   "cell_type": "markdown",
   "id": "d9a0fd75-6add-4958-b2c0-02004cabdfbb",
   "metadata": {},
   "source": [
    "2. `**kwargs` (Arbitrary Keyword Arguments):\n",
    "   - `**kwargs` is used to pass a variable number of keyword arguments to a function.\n",
    "   - It allows you to pass any number of keyword arguments, and they are collected into a dictionary within the function.\n",
    "   - You can use `**kwargs` when you want to provide named arguments with values to a function."
   ]
  },
  {
   "cell_type": "code",
   "execution_count": 4,
   "id": "17e85c2f-b327-4496-a3e3-c7fb8f78cafb",
   "metadata": {},
   "outputs": [
    {
     "name": "stdout",
     "output_type": "stream",
     "text": [
      "name: Alice\n",
      "age: 30\n",
      "city: New York\n"
     ]
    }
   ],
   "source": [
    "def print_info(**kwargs):\n",
    "    for key, value in kwargs.items():\n",
    "        print(f\"{key}: {value}\")\n",
    "\n",
    "print_info(name=\"Alice\", age=30, city=\"New York\")"
   ]
  },
  {
   "cell_type": "markdown",
   "id": "a6c953a7-778c-461a-8108-12231d20663b",
   "metadata": {},
   "source": [
    "Both `*args` and `**kwargs` are very useful when you need to create functions that are flexible and can handle a varying number of arguments without explicitly defining each parameter."
   ]
  },
  {
   "cell_type": "markdown",
   "id": "c219bd87-9b85-4332-b369-a94807f7240b",
   "metadata": {},
   "source": [
    "### 3. What is an iterator in python? Name the method used to initialise the iterator object and the method used for iteration. Use these methods to print the first five elements of the given list [2, 4, 6, 8, 10, 12, 14, 16, 18, 20]."
   ]
  },
  {
   "cell_type": "markdown",
   "id": "ffca4877-ccb4-4476-9a63-c75b156e4a80",
   "metadata": {},
   "source": [
    "In Python, an iterator is an object that represents a stream of data and allows you to traverse through that data one element at a time. It implements two essential methods:\n",
    "\n",
    "1. `__iter__()`: This method is used to initialize the iterator object. It returns the iterator object itself.\n",
    "\n",
    "2. `__next__()`: This method is used to retrieve the next element from the iterator. It raises a `StopIteration` exception when there are no more items to return."
   ]
  },
  {
   "cell_type": "code",
   "execution_count": 7,
   "id": "45aedee1-8920-4014-aacf-c87914c30585",
   "metadata": {},
   "outputs": [
    {
     "name": "stdout",
     "output_type": "stream",
     "text": [
      "2\n",
      "4\n",
      "6\n",
      "8\n",
      "10\n"
     ]
    }
   ],
   "source": [
    "my_list = [2, 4, 6, 8, 10, 12, 14, 16, 18, 20]\n",
    "\n",
    "# Create an iterator object\n",
    "my_iterator = iter(my_list)\n",
    "\n",
    "# Use the iterator to print the first five elements\n",
    "for _ in range(5):\n",
    "    element = next(my_iterator)\n",
    "    print(element)"
   ]
  },
  {
   "cell_type": "markdown",
   "id": "9d65965f-35fa-4e19-bea4-5982f18c83bd",
   "metadata": {},
   "source": [
    "### 4. What is a generator function in python? Why yield keyword is used? Give an example of a generator function."
   ]
  },
  {
   "cell_type": "markdown",
   "id": "93839474-f18f-4289-91a7-805f2ca6fafe",
   "metadata": {},
   "source": [
    "A generator function in Python is a special type of function that allows you to generate a series of values one at a time using an iterable interface. Generator functions are defined using the `def` keyword like regular functions, but they contain one or more `yield` statements. The `yield` keyword is used to yield a value from the function and temporarily suspend its execution. It essentially allows the function to \"remember\" its state between calls and continue from where it left off.\n",
    "\n",
    "The key characteristics of generator functions are:\n",
    "\n",
    "1. They use the `yield` keyword to yield values one at a time.\n",
    "\n",
    "2. They do not execute the entire function in one go but rather pause and resume as values are requested.\n",
    "\n",
    "3. They are memory-efficient, as they don't store all values in memory at once; instead, they generate values on the fly."
   ]
  },
  {
   "cell_type": "code",
   "execution_count": 8,
   "id": "cb60949e-ce9d-4d74-8ef0-302ae651a1cf",
   "metadata": {},
   "outputs": [
    {
     "name": "stdout",
     "output_type": "stream",
     "text": [
      "0\n",
      "1\n",
      "2\n",
      "3\n",
      "4\n"
     ]
    }
   ],
   "source": [
    "def number_sequence(limit):\n",
    "    num = 0\n",
    "    while num < limit:\n",
    "        yield num\n",
    "        num += 1\n",
    "\n",
    "# Using the generator function\n",
    "sequence = number_sequence(5)\n",
    "\n",
    "# Iterating through the generator to retrieve values\n",
    "for value in sequence:\n",
    "    print(value)"
   ]
  },
  {
   "cell_type": "markdown",
   "id": "aa9a5e15-62a2-4597-bc35-624c61355275",
   "metadata": {},
   "source": [
    "In this example, the `number_sequence` function generates numbers from 0 to the specified `limit`. When you create a generator object by calling the function with an argument (e.g., `number_sequence(5)`), it doesn't execute the function immediately but returns a generator object. When you iterate through this generator object (using a `for` loop or other iteration methods), it runs the function and yields values one at a time.\n",
    "\n",
    "The `yield` statement is crucial here, as it temporarily pauses the function and yields the current value. When the generator is iterated further, the function continues execution from where it left off, updating the value and yielding the next one, until the condition is met.\n",
    "\n",
    "This lazy evaluation and memory-efficient approach makes generator functions particularly useful for working with large data sets or generating an infinite sequence of values without consuming excessive memory."
   ]
  },
  {
   "cell_type": "markdown",
   "id": "44a5dd45-7003-4cb5-ad39-f2cb5c694086",
   "metadata": {},
   "source": [
    "### 5. Create a generator function for prime numbers less than 1000. Use the next() method to print the first 20 prime numbers."
   ]
  },
  {
   "cell_type": "code",
   "execution_count": 9,
   "id": "030e2737-d7fd-4711-9f18-29514f04b5dd",
   "metadata": {},
   "outputs": [
    {
     "name": "stdout",
     "output_type": "stream",
     "text": [
      "2\n",
      "3\n",
      "5\n",
      "7\n",
      "11\n",
      "13\n",
      "17\n",
      "19\n",
      "23\n",
      "29\n",
      "31\n",
      "37\n",
      "41\n",
      "43\n",
      "47\n",
      "53\n",
      "59\n",
      "61\n",
      "67\n",
      "71\n"
     ]
    }
   ],
   "source": [
    "def is_prime(n):\n",
    "    if n <= 1:\n",
    "        return False\n",
    "    if n <= 3:\n",
    "        return True\n",
    "    if n % 2 == 0 or n % 3 == 0:\n",
    "        return False\n",
    "    i = 5\n",
    "    while i * i <= n:\n",
    "        if n % i == 0 or n % (i + 2) == 0:\n",
    "            return False\n",
    "        i += 6\n",
    "    return True\n",
    "\n",
    "def prime_generator(limit):\n",
    "    count = 0\n",
    "    num = 2\n",
    "    while count < limit:\n",
    "        if is_prime(num):\n",
    "            yield num\n",
    "            count += 1\n",
    "        num += 1\n",
    "\n",
    "# Create a generator object for prime numbers\n",
    "prime_gen = prime_generator(20)\n",
    "\n",
    "# Use the next() method to print the first 20 prime numbers\n",
    "for _ in range(20):\n",
    "    prime = next(prime_gen)\n",
    "    print(prime)"
   ]
  }
 ],
 "metadata": {
  "kernelspec": {
   "display_name": "Python 3 (ipykernel)",
   "language": "python",
   "name": "python3"
  },
  "language_info": {
   "codemirror_mode": {
    "name": "ipython",
    "version": 3
   },
   "file_extension": ".py",
   "mimetype": "text/x-python",
   "name": "python",
   "nbconvert_exporter": "python",
   "pygments_lexer": "ipython3",
   "version": "3.10.8"
  }
 },
 "nbformat": 4,
 "nbformat_minor": 5
}
